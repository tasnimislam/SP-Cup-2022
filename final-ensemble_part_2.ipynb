{
 "cells": [
  {
   "cell_type": "code",
   "execution_count": 12,
   "id": "a74efe50",
   "metadata": {
    "execution": {
     "iopub.execute_input": "2022-03-30T18:45:33.282770Z",
     "iopub.status.busy": "2022-03-30T18:45:33.282036Z",
     "iopub.status.idle": "2022-03-30T18:45:33.286995Z",
     "shell.execute_reply": "2022-03-30T18:45:33.287687Z",
     "shell.execute_reply.started": "2022-03-30T18:44:26.466887Z"
    },
    "papermill": {
     "duration": 0.028535,
     "end_time": "2022-03-30T18:45:33.288006",
     "exception": false,
     "start_time": "2022-03-30T18:45:33.259471",
     "status": "completed"
    },
    "tags": []
   },
   "outputs": [],
   "source": [
    "import pandas as pd\n",
    "import numpy as np"
   ]
  },
  {
   "cell_type": "code",
   "execution_count": 13,
   "id": "8e8595c2",
   "metadata": {
    "execution": {
     "iopub.execute_input": "2022-03-30T18:45:33.316865Z",
     "iopub.status.busy": "2022-03-30T18:45:33.316205Z",
     "iopub.status.idle": "2022-03-30T18:45:33.434206Z",
     "shell.execute_reply": "2022-03-30T18:45:33.434789Z",
     "shell.execute_reply.started": "2022-03-30T18:44:26.478056Z"
    },
    "papermill": {
     "duration": 0.134103,
     "end_time": "2022-03-30T18:45:33.434976",
     "exception": false,
     "start_time": "2022-03-30T18:45:33.300873",
     "status": "completed"
    },
    "tags": []
   },
   "outputs": [],
   "source": [
    "try:\n",
    "    sub_1 = pd.read_csv(\"incept_part_2.csv\",names=[\"audio\",\"inc\"])\n",
    "    sub_2 = pd.read_csv(\"part_2_predictions_yam.csv\",names=[\"audio\",\"yam\"])\n",
    "    sub_3 = pd.read_csv(\"part2_scores_res_asv.csv\",names=[\"audio\",\"asv\"])\n",
    "    sub_4 = pd.read_csv(\"part2_scores_res_raw.csv\",names=[\"audio\",\"res\"])\n",
    "except:\n",
    "    print(\"CSV File not found\")"
   ]
  },
  {
   "cell_type": "code",
   "execution_count": 14,
   "id": "3c842bf2",
   "metadata": {
    "execution": {
     "iopub.execute_input": "2022-03-30T18:45:33.463559Z",
     "iopub.status.busy": "2022-03-30T18:45:33.462764Z",
     "iopub.status.idle": "2022-03-30T18:45:33.494902Z",
     "shell.execute_reply": "2022-03-30T18:45:33.494182Z",
     "shell.execute_reply.started": "2022-03-30T18:44:26.555053Z"
    },
    "papermill": {
     "duration": 0.047596,
     "end_time": "2022-03-30T18:45:33.495052",
     "exception": false,
     "start_time": "2022-03-30T18:45:33.447456",
     "status": "completed"
    },
    "tags": []
   },
   "outputs": [],
   "source": [
    "sub = pd.merge(sub_1,sub_2,on=\"audio\")"
   ]
  },
  {
   "cell_type": "code",
   "execution_count": 15,
   "id": "ec6ad6e2",
   "metadata": {
    "execution": {
     "iopub.execute_input": "2022-03-30T18:45:33.533107Z",
     "iopub.status.busy": "2022-03-30T18:45:33.532017Z",
     "iopub.status.idle": "2022-03-30T18:45:33.538666Z",
     "shell.execute_reply": "2022-03-30T18:45:33.539135Z",
     "shell.execute_reply.started": "2022-03-30T18:44:26.572469Z"
    },
    "papermill": {
     "duration": 0.031838,
     "end_time": "2022-03-30T18:45:33.539343",
     "exception": false,
     "start_time": "2022-03-30T18:45:33.507505",
     "status": "completed"
    },
    "tags": []
   },
   "outputs": [],
   "source": [
    "sub = pd.merge(sub,sub_3,on=\"audio\")"
   ]
  },
  {
   "cell_type": "code",
   "execution_count": 16,
   "id": "a5497171",
   "metadata": {
    "execution": {
     "iopub.execute_input": "2022-03-30T18:45:33.574051Z",
     "iopub.status.busy": "2022-03-30T18:45:33.573066Z",
     "iopub.status.idle": "2022-03-30T18:45:33.581014Z",
     "shell.execute_reply": "2022-03-30T18:45:33.581514Z",
     "shell.execute_reply.started": "2022-03-30T18:44:26.599598Z"
    },
    "papermill": {
     "duration": 0.029838,
     "end_time": "2022-03-30T18:45:33.581705",
     "exception": false,
     "start_time": "2022-03-30T18:45:33.551867",
     "status": "completed"
    },
    "tags": []
   },
   "outputs": [],
   "source": [
    "sub = pd.merge(sub,sub_4,on=\"audio\")"
   ]
  },
  {
   "cell_type": "code",
   "execution_count": 17,
   "id": "10d739da",
   "metadata": {
    "execution": {
     "iopub.execute_input": "2022-03-30T18:45:33.614230Z",
     "iopub.status.busy": "2022-03-30T18:45:33.609885Z",
     "iopub.status.idle": "2022-03-30T18:45:33.627903Z",
     "shell.execute_reply": "2022-03-30T18:45:33.628414Z",
     "shell.execute_reply.started": "2022-03-30T18:44:26.622467Z"
    },
    "papermill": {
     "duration": 0.034562,
     "end_time": "2022-03-30T18:45:33.628590",
     "exception": false,
     "start_time": "2022-03-30T18:45:33.594028",
     "status": "completed"
    },
    "tags": []
   },
   "outputs": [
    {
     "data": {
      "text/html": [
       "<div>\n",
       "<style scoped>\n",
       "    .dataframe tbody tr th:only-of-type {\n",
       "        vertical-align: middle;\n",
       "    }\n",
       "\n",
       "    .dataframe tbody tr th {\n",
       "        vertical-align: top;\n",
       "    }\n",
       "\n",
       "    .dataframe thead th {\n",
       "        text-align: right;\n",
       "    }\n",
       "</style>\n",
       "<table border=\"1\" class=\"dataframe\">\n",
       "  <thead>\n",
       "    <tr style=\"text-align: right;\">\n",
       "      <th></th>\n",
       "      <th>audio</th>\n",
       "      <th>inc</th>\n",
       "      <th>yam</th>\n",
       "      <th>asv</th>\n",
       "      <th>res</th>\n",
       "    </tr>\n",
       "  </thead>\n",
       "  <tbody>\n",
       "    <tr>\n",
       "      <th>0</th>\n",
       "      <td>000c8deb702043e5c1689f1e7a71950f.wav</td>\n",
       "      <td>0</td>\n",
       "      <td>5</td>\n",
       "      <td>0</td>\n",
       "      <td>0</td>\n",
       "    </tr>\n",
       "    <tr>\n",
       "      <th>1</th>\n",
       "      <td>001945bc6c04dd435ccd6780f64fac3b.wav</td>\n",
       "      <td>3</td>\n",
       "      <td>3</td>\n",
       "      <td>3</td>\n",
       "      <td>3</td>\n",
       "    </tr>\n",
       "    <tr>\n",
       "      <th>2</th>\n",
       "      <td>0020a5b1d8f42faa2fd7ff8abc942c4d.wav</td>\n",
       "      <td>4</td>\n",
       "      <td>4</td>\n",
       "      <td>4</td>\n",
       "      <td>4</td>\n",
       "    </tr>\n",
       "    <tr>\n",
       "      <th>3</th>\n",
       "      <td>00303d4b2e4bd17bd262580227ff3336.wav</td>\n",
       "      <td>1</td>\n",
       "      <td>1</td>\n",
       "      <td>1</td>\n",
       "      <td>1</td>\n",
       "    </tr>\n",
       "    <tr>\n",
       "      <th>4</th>\n",
       "      <td>00500d926ba4154bdb30b85f99dd5e6a.wav</td>\n",
       "      <td>4</td>\n",
       "      <td>4</td>\n",
       "      <td>4</td>\n",
       "      <td>4</td>\n",
       "    </tr>\n",
       "  </tbody>\n",
       "</table>\n",
       "</div>"
      ],
      "text/plain": [
       "                                  audio  inc  yam  asv  res\n",
       "0  000c8deb702043e5c1689f1e7a71950f.wav    0    5    0    0\n",
       "1  001945bc6c04dd435ccd6780f64fac3b.wav    3    3    3    3\n",
       "2  0020a5b1d8f42faa2fd7ff8abc942c4d.wav    4    4    4    4\n",
       "3  00303d4b2e4bd17bd262580227ff3336.wav    1    1    1    1\n",
       "4  00500d926ba4154bdb30b85f99dd5e6a.wav    4    4    4    4"
      ]
     },
     "execution_count": 17,
     "metadata": {},
     "output_type": "execute_result"
    }
   ],
   "source": [
    "sub.head()"
   ]
  },
  {
   "cell_type": "code",
   "execution_count": 18,
   "id": "7a665b6f",
   "metadata": {
    "execution": {
     "iopub.execute_input": "2022-03-30T18:45:33.660630Z",
     "iopub.status.busy": "2022-03-30T18:45:33.659685Z",
     "iopub.status.idle": "2022-03-30T18:45:33.661899Z",
     "shell.execute_reply": "2022-03-30T18:45:33.662359Z",
     "shell.execute_reply.started": "2022-03-30T18:44:26.640651Z"
    },
    "papermill": {
     "duration": 0.020813,
     "end_time": "2022-03-30T18:45:33.662540",
     "exception": false,
     "start_time": "2022-03-30T18:45:33.641727",
     "status": "completed"
    },
    "tags": []
   },
   "outputs": [],
   "source": [
    "sub[\"final\"] = 0"
   ]
  },
  {
   "cell_type": "code",
   "execution_count": 19,
   "id": "d76f81e0",
   "metadata": {
    "execution": {
     "iopub.execute_input": "2022-03-30T18:45:33.692206Z",
     "iopub.status.busy": "2022-03-30T18:45:33.691277Z",
     "iopub.status.idle": "2022-03-30T18:45:37.576134Z",
     "shell.execute_reply": "2022-03-30T18:45:37.575577Z",
     "shell.execute_reply.started": "2022-03-30T18:44:26.654096Z"
    },
    "papermill": {
     "duration": 3.900856,
     "end_time": "2022-03-30T18:45:37.576289",
     "exception": false,
     "start_time": "2022-03-30T18:45:33.675433",
     "status": "completed"
    },
    "tags": []
   },
   "outputs": [
    {
     "name": "stderr",
     "output_type": "stream",
     "text": [
      "C:\\Users\\manami\\anaconda3\\envs\\NewGpu\\lib\\site-packages\\pandas\\core\\indexing.py:1732: SettingWithCopyWarning: \n",
      "A value is trying to be set on a copy of a slice from a DataFrame\n",
      "\n",
      "See the caveats in the documentation: https://pandas.pydata.org/pandas-docs/stable/user_guide/indexing.html#returning-a-view-versus-a-copy\n",
      "  self._setitem_single_block(indexer, value, name)\n"
     ]
    }
   ],
   "source": [
    "for i in range(9000):\n",
    "    classes = [0]*6\n",
    "    for column in sub.columns[1:]:\n",
    "        if column==\"final\":\n",
    "            inc=0\n",
    "        else:\n",
    "            inc=1\n",
    "        classes[sub[column].iloc[i]]+=inc\n",
    "    #if max(classes)==4 or max(classes)==3:\n",
    "        #count+=1\n",
    "    if max(classes)!=2:\n",
    "        pred = np.argmax(np.array(classes),axis=-1)\n",
    "    else:\n",
    "        pred = sub.asv.iloc[i]\n",
    "    sub.final.iloc[i]= pred\n"
   ]
  },
  {
   "cell_type": "code",
   "execution_count": 20,
   "id": "35acd11f",
   "metadata": {
    "execution": {
     "iopub.execute_input": "2022-03-30T18:45:37.616242Z",
     "iopub.status.busy": "2022-03-30T18:45:37.615562Z",
     "iopub.status.idle": "2022-03-30T18:45:37.623220Z",
     "shell.execute_reply": "2022-03-30T18:45:37.622649Z",
     "shell.execute_reply.started": "2022-03-30T18:44:30.849124Z"
    },
    "papermill": {
     "duration": 0.033679,
     "end_time": "2022-03-30T18:45:37.623432",
     "exception": false,
     "start_time": "2022-03-30T18:45:37.589753",
     "status": "completed"
    },
    "tags": []
   },
   "outputs": [
    {
     "name": "stdout",
     "output_type": "stream",
     "text": [
      "4    1756\n",
      "1    1571\n",
      "0    1498\n",
      "3    1497\n",
      "2    1483\n",
      "5    1195\n",
      "Name: inc, dtype: int64\n",
      "5    2394\n",
      "1    1642\n",
      "4    1534\n",
      "3    1496\n",
      "2    1262\n",
      "0     672\n",
      "Name: yam, dtype: int64\n",
      "5    1527\n",
      "4    1514\n",
      "1    1511\n",
      "0    1498\n",
      "3    1495\n",
      "2    1455\n",
      "Name: asv, dtype: int64\n",
      "4    1684\n",
      "1    1547\n",
      "2    1514\n",
      "3    1509\n",
      "0    1500\n",
      "5    1246\n",
      "Name: res, dtype: int64\n",
      "4    1535\n",
      "1    1520\n",
      "0    1499\n",
      "3    1497\n",
      "5    1488\n",
      "2    1461\n",
      "Name: final, dtype: int64\n"
     ]
    }
   ],
   "source": [
    "for column in sub.columns[1:]:\n",
    "    print(sub[column].value_counts())"
   ]
  },
  {
   "cell_type": "code",
   "execution_count": 21,
   "id": "9d1c7e08",
   "metadata": {
    "execution": {
     "iopub.execute_input": "2022-03-30T18:45:37.658356Z",
     "iopub.status.busy": "2022-03-30T18:45:37.657329Z",
     "iopub.status.idle": "2022-03-30T18:45:37.667741Z",
     "shell.execute_reply": "2022-03-30T18:45:37.667176Z",
     "shell.execute_reply.started": "2022-03-30T18:44:30.868502Z"
    },
    "papermill": {
     "duration": 0.02953,
     "end_time": "2022-03-30T18:45:37.667877",
     "exception": false,
     "start_time": "2022-03-30T18:45:37.638347",
     "status": "completed"
    },
    "tags": []
   },
   "outputs": [
    {
     "data": {
      "text/html": [
       "<div>\n",
       "<style scoped>\n",
       "    .dataframe tbody tr th:only-of-type {\n",
       "        vertical-align: middle;\n",
       "    }\n",
       "\n",
       "    .dataframe tbody tr th {\n",
       "        vertical-align: top;\n",
       "    }\n",
       "\n",
       "    .dataframe thead th {\n",
       "        text-align: right;\n",
       "    }\n",
       "</style>\n",
       "<table border=\"1\" class=\"dataframe\">\n",
       "  <thead>\n",
       "    <tr style=\"text-align: right;\">\n",
       "      <th></th>\n",
       "      <th>audio</th>\n",
       "      <th>final</th>\n",
       "    </tr>\n",
       "  </thead>\n",
       "  <tbody>\n",
       "    <tr>\n",
       "      <th>0</th>\n",
       "      <td>000c8deb702043e5c1689f1e7a71950f.wav</td>\n",
       "      <td>0</td>\n",
       "    </tr>\n",
       "    <tr>\n",
       "      <th>1</th>\n",
       "      <td>001945bc6c04dd435ccd6780f64fac3b.wav</td>\n",
       "      <td>3</td>\n",
       "    </tr>\n",
       "    <tr>\n",
       "      <th>2</th>\n",
       "      <td>0020a5b1d8f42faa2fd7ff8abc942c4d.wav</td>\n",
       "      <td>4</td>\n",
       "    </tr>\n",
       "    <tr>\n",
       "      <th>3</th>\n",
       "      <td>00303d4b2e4bd17bd262580227ff3336.wav</td>\n",
       "      <td>1</td>\n",
       "    </tr>\n",
       "    <tr>\n",
       "      <th>4</th>\n",
       "      <td>00500d926ba4154bdb30b85f99dd5e6a.wav</td>\n",
       "      <td>4</td>\n",
       "    </tr>\n",
       "  </tbody>\n",
       "</table>\n",
       "</div>"
      ],
      "text/plain": [
       "                                  audio  final\n",
       "0  000c8deb702043e5c1689f1e7a71950f.wav      0\n",
       "1  001945bc6c04dd435ccd6780f64fac3b.wav      3\n",
       "2  0020a5b1d8f42faa2fd7ff8abc942c4d.wav      4\n",
       "3  00303d4b2e4bd17bd262580227ff3336.wav      1\n",
       "4  00500d926ba4154bdb30b85f99dd5e6a.wav      4"
      ]
     },
     "execution_count": 21,
     "metadata": {},
     "output_type": "execute_result"
    }
   ],
   "source": [
    "sub = sub.drop([\"res\",\"asv\",\"yam\",\"inc\"],axis=1)\n",
    "sub.head()"
   ]
  },
  {
   "cell_type": "code",
   "execution_count": 22,
   "id": "4fcfc6bc",
   "metadata": {
    "execution": {
     "iopub.execute_input": "2022-03-30T18:45:37.702246Z",
     "iopub.status.busy": "2022-03-30T18:45:37.700186Z",
     "iopub.status.idle": "2022-03-30T18:45:37.735713Z",
     "shell.execute_reply": "2022-03-30T18:45:37.735077Z",
     "shell.execute_reply.started": "2022-03-30T18:44:30.889213Z"
    },
    "papermill": {
     "duration": 0.053265,
     "end_time": "2022-03-30T18:45:37.735891",
     "exception": false,
     "start_time": "2022-03-30T18:45:37.682626",
     "status": "completed"
    },
    "tags": []
   },
   "outputs": [],
   "source": [
    "sub.to_csv(\"part2_scores.csv\",header=False,index=False)"
   ]
  }
 ],
 "metadata": {
  "kernelspec": {
   "display_name": "Python 3",
   "language": "python",
   "name": "python3"
  },
  "language_info": {
   "codemirror_mode": {
    "name": "ipython",
    "version": 3
   },
   "file_extension": ".py",
   "mimetype": "text/x-python",
   "name": "python",
   "nbconvert_exporter": "python",
   "pygments_lexer": "ipython3",
   "version": "3.7.11"
  },
  "papermill": {
   "default_parameters": {},
   "duration": 15.537356,
   "end_time": "2022-03-30T18:45:38.361397",
   "environment_variables": {},
   "exception": null,
   "input_path": "__notebook__.ipynb",
   "output_path": "__notebook__.ipynb",
   "parameters": {},
   "start_time": "2022-03-30T18:45:22.824041",
   "version": "2.3.3"
  }
 },
 "nbformat": 4,
 "nbformat_minor": 5
}
