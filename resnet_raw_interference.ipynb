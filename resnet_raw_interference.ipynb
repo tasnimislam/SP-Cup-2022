{
  "cells": [
    {
      "cell_type": "markdown",
      "metadata": {
        "id": "LbcRJFwrCvns"
      },
      "source": [
        "# Introduction\n",
        "\n",
        "This notebook is for having doing inference. The best models and weights are saved in the folder. just running all the notebooks will generate the final predictions csvs"
      ]
    },
    {
      "cell_type": "markdown",
      "metadata": {
        "id": "MCmWxzSaCvnw"
      },
      "source": [
        "# 0. Setup"
      ]
    },
    {
      "cell_type": "code",
      "execution_count": 43,
      "metadata": {
        "colab": {
          "base_uri": "https://localhost:8080/"
        },
        "id": "4ASlk0dvD1VR",
        "outputId": "8068a6c1-51b7-4b62-d52e-32a46f068a20"
      },
      "outputs": [],
      "source": [
        "# from google.colab import drive\n",
        "# drive.mount('/content/drive')"
      ]
    },
    {
      "cell_type": "code",
      "execution_count": 44,
      "metadata": {
        "id": "h0iuGuOjEJMP"
      },
      "outputs": [
        {
          "name": "stdout",
          "output_type": "stream",
          "text": [
            "Requirement already satisfied: notebook>=6.3.0 in c:\\users\\manami\\anaconda3\\envs\\newgpu\\lib\\site-packages (from -r requirement (1).txt (line 1)) (6.4.8)\n",
            "Requirement already satisfied: tqdm>=4.60.0 in c:\\users\\manami\\anaconda3\\envs\\newgpu\\lib\\site-packages (from -r requirement (1).txt (line 2)) (4.62.0)\n",
            "Requirement already satisfied: pandas>=1.2.4 in c:\\users\\manami\\anaconda3\\envs\\newgpu\\lib\\site-packages (from -r requirement (1).txt (line 3)) (1.3.1)\n",
            "Requirement already satisfied: numpy>=1.19.2 in c:\\users\\manami\\anaconda3\\envs\\newgpu\\lib\\site-packages (from -r requirement (1).txt (line 4)) (1.21.5)\n",
            "Requirement already satisfied: ast-tools>=0.1.4 in c:\\users\\manami\\anaconda3\\envs\\newgpu\\lib\\site-packages (from -r requirement (1).txt (line 5)) (0.1.8)\n",
            "Requirement already satisfied: scikit-learn>=0.24.2 in c:\\users\\manami\\anaconda3\\envs\\newgpu\\lib\\site-packages (from -r requirement (1).txt (line 6)) (0.24.2)\n",
            "Requirement already satisfied: scipy>=1.6.3 in c:\\users\\manami\\anaconda3\\envs\\newgpu\\lib\\site-packages (from -r requirement (1).txt (line 7)) (1.7.1)\n",
            "Requirement already satisfied: matplotlib>=3.4.1 in c:\\users\\manami\\anaconda3\\envs\\newgpu\\lib\\site-packages (from -r requirement (1).txt (line 8)) (3.4.2)\n",
            "Requirement already satisfied: scikit-image>=0.18.1 in c:\\users\\manami\\anaconda3\\envs\\newgpu\\lib\\site-packages (from -r requirement (1).txt (line 9)) (0.18.2)\n",
            "Requirement already satisfied: tensorflow-gpu>=2.4.1 in c:\\users\\manami\\anaconda3\\envs\\newgpu\\lib\\site-packages (from -r requirement (1).txt (line 11)) (2.8.0)\n",
            "Requirement already satisfied: keras>=2.4.3 in c:\\users\\manami\\anaconda3\\envs\\newgpu\\lib\\site-packages (from -r requirement (1).txt (line 12)) (2.8.0)\n",
            "Requirement already satisfied: librosa==0.9.1 in c:\\users\\manami\\anaconda3\\envs\\newgpu\\lib\\site-packages (from -r requirement (1).txt (line 14)) (0.9.1)\n",
            "Requirement already satisfied: numba>=0.45.1 in c:\\users\\manami\\anaconda3\\envs\\newgpu\\lib\\site-packages (from librosa==0.9.1->-r requirement (1).txt (line 14)) (0.55.1)\n",
            "Requirement already satisfied: packaging>=20.0 in c:\\users\\manami\\anaconda3\\envs\\newgpu\\lib\\site-packages (from librosa==0.9.1->-r requirement (1).txt (line 14)) (21.0)\n",
            "Requirement already satisfied: audioread>=2.1.5 in c:\\users\\manami\\anaconda3\\envs\\newgpu\\lib\\site-packages (from librosa==0.9.1->-r requirement (1).txt (line 14)) (2.1.9)\n",
            "Requirement already satisfied: resampy>=0.2.2 in c:\\users\\manami\\anaconda3\\envs\\newgpu\\lib\\site-packages (from librosa==0.9.1->-r requirement (1).txt (line 14)) (0.2.2)\n",
            "Requirement already satisfied: soundfile>=0.10.2 in c:\\users\\manami\\anaconda3\\envs\\newgpu\\lib\\site-packages (from librosa==0.9.1->-r requirement (1).txt (line 14)) (0.10.3.post1)\n",
            "Requirement already satisfied: pooch>=1.0 in c:\\users\\manami\\anaconda3\\envs\\newgpu\\lib\\site-packages (from librosa==0.9.1->-r requirement (1).txt (line 14)) (1.6.0)\n",
            "Requirement already satisfied: joblib>=0.14 in c:\\users\\manami\\anaconda3\\envs\\newgpu\\lib\\site-packages (from librosa==0.9.1->-r requirement (1).txt (line 14)) (1.0.1)\n",
            "Requirement already satisfied: decorator>=4.0.10 in c:\\users\\manami\\anaconda3\\envs\\newgpu\\lib\\site-packages (from librosa==0.9.1->-r requirement (1).txt (line 14)) (5.0.9)\n",
            "Requirement already satisfied: pyzmq>=17 in c:\\users\\manami\\anaconda3\\envs\\newgpu\\lib\\site-packages (from notebook>=6.3.0->-r requirement (1).txt (line 1)) (20.0.0)\n",
            "Requirement already satisfied: tornado>=6.1 in c:\\users\\manami\\anaconda3\\envs\\newgpu\\lib\\site-packages (from notebook>=6.3.0->-r requirement (1).txt (line 1)) (6.1)\n",
            "Requirement already satisfied: ipython-genutils in c:\\users\\manami\\anaconda3\\envs\\newgpu\\lib\\site-packages (from notebook>=6.3.0->-r requirement (1).txt (line 1)) (0.2.0)\n",
            "Requirement already satisfied: jupyter-client>=5.3.4 in c:\\users\\manami\\anaconda3\\envs\\newgpu\\lib\\site-packages (from notebook>=6.3.0->-r requirement (1).txt (line 1)) (6.1.12)\n",
            "Requirement already satisfied: traitlets>=4.2.1 in c:\\users\\manami\\anaconda3\\envs\\newgpu\\lib\\site-packages (from notebook>=6.3.0->-r requirement (1).txt (line 1)) (5.0.5)\n",
            "Requirement already satisfied: nbformat in c:\\users\\manami\\anaconda3\\envs\\newgpu\\lib\\site-packages (from notebook>=6.3.0->-r requirement (1).txt (line 1)) (5.1.3)\n",
            "Requirement already satisfied: nest-asyncio>=1.5 in c:\\users\\manami\\anaconda3\\envs\\newgpu\\lib\\site-packages (from notebook>=6.3.0->-r requirement (1).txt (line 1)) (1.5.4)\n",
            "Requirement already satisfied: prometheus-client in c:\\users\\manami\\anaconda3\\envs\\newgpu\\lib\\site-packages (from notebook>=6.3.0->-r requirement (1).txt (line 1)) (0.13.1)\n",
            "Requirement already satisfied: argon2-cffi in c:\\users\\manami\\anaconda3\\envs\\newgpu\\lib\\site-packages (from notebook>=6.3.0->-r requirement (1).txt (line 1)) (21.3.0)\n",
            "Requirement already satisfied: ipykernel in c:\\users\\manami\\anaconda3\\envs\\newgpu\\lib\\site-packages (from notebook>=6.3.0->-r requirement (1).txt (line 1)) (5.3.4)\n",
            "Requirement already satisfied: Send2Trash>=1.8.0 in c:\\users\\manami\\anaconda3\\envs\\newgpu\\lib\\site-packages (from notebook>=6.3.0->-r requirement (1).txt (line 1)) (1.8.0)\n",
            "Requirement already satisfied: jupyter-core>=4.6.1 in c:\\users\\manami\\anaconda3\\envs\\newgpu\\lib\\site-packages (from notebook>=6.3.0->-r requirement (1).txt (line 1)) (4.7.1)\n",
            "Requirement already satisfied: jinja2 in c:\\users\\manami\\anaconda3\\envs\\newgpu\\lib\\site-packages (from notebook>=6.3.0->-r requirement (1).txt (line 1)) (3.0.3)\n",
            "Requirement already satisfied: terminado>=0.8.3 in c:\\users\\manami\\anaconda3\\envs\\newgpu\\lib\\site-packages (from notebook>=6.3.0->-r requirement (1).txt (line 1)) (0.13.1)\n",
            "Requirement already satisfied: nbconvert in c:\\users\\manami\\anaconda3\\envs\\newgpu\\lib\\site-packages (from notebook>=6.3.0->-r requirement (1).txt (line 1)) (6.4.2)\n",
            "Requirement already satisfied: colorama in c:\\users\\manami\\anaconda3\\envs\\newgpu\\lib\\site-packages (from tqdm>=4.60.0->-r requirement (1).txt (line 2)) (0.4.4)\n",
            "Requirement already satisfied: python-dateutil>=2.7.3 in c:\\users\\manami\\anaconda3\\envs\\newgpu\\lib\\site-packages (from pandas>=1.2.4->-r requirement (1).txt (line 3)) (2.8.2)\n",
            "Requirement already satisfied: pytz>=2017.3 in c:\\users\\manami\\anaconda3\\envs\\newgpu\\lib\\site-packages (from pandas>=1.2.4->-r requirement (1).txt (line 3)) (2021.1)\n",
            "Requirement already satisfied: libcst in c:\\users\\manami\\anaconda3\\envs\\newgpu\\lib\\site-packages (from ast-tools>=0.1.4->-r requirement (1).txt (line 5)) (0.4.1)\n",
            "Requirement already satisfied: astor in c:\\users\\manami\\anaconda3\\envs\\newgpu\\lib\\site-packages (from ast-tools>=0.1.4->-r requirement (1).txt (line 5)) (0.8.1)\n",
            "Requirement already satisfied: threadpoolctl>=2.0.0 in c:\\users\\manami\\anaconda3\\envs\\newgpu\\lib\\site-packages (from scikit-learn>=0.24.2->-r requirement (1).txt (line 6)) (2.2.0)\n",
            "Requirement already satisfied: kiwisolver>=1.0.1 in c:\\users\\manami\\anaconda3\\envs\\newgpu\\lib\\site-packages (from matplotlib>=3.4.1->-r requirement (1).txt (line 8)) (1.3.1)\n",
            "Requirement already satisfied: pillow>=6.2.0 in c:\\users\\manami\\anaconda3\\envs\\newgpu\\lib\\site-packages (from matplotlib>=3.4.1->-r requirement (1).txt (line 8)) (8.3.1)\n",
            "Requirement already satisfied: pyparsing>=2.2.1 in c:\\users\\manami\\anaconda3\\envs\\newgpu\\lib\\site-packages (from matplotlib>=3.4.1->-r requirement (1).txt (line 8)) (2.4.7)\n",
            "Requirement already satisfied: cycler>=0.10 in c:\\users\\manami\\anaconda3\\envs\\newgpu\\lib\\site-packages (from matplotlib>=3.4.1->-r requirement (1).txt (line 8)) (0.10.0)\n",
            "Requirement already satisfied: tifffile>=2019.7.26 in c:\\users\\manami\\anaconda3\\envs\\newgpu\\lib\\site-packages (from scikit-image>=0.18.1->-r requirement (1).txt (line 9)) (2021.7.30)\n",
            "Requirement already satisfied: imageio>=2.3.0 in c:\\users\\manami\\anaconda3\\envs\\newgpu\\lib\\site-packages (from scikit-image>=0.18.1->-r requirement (1).txt (line 9)) (2.9.0)\n",
            "Requirement already satisfied: networkx>=2.0 in c:\\users\\manami\\anaconda3\\envs\\newgpu\\lib\\site-packages (from scikit-image>=0.18.1->-r requirement (1).txt (line 9)) (2.6.2)\n",
            "Requirement already satisfied: PyWavelets>=1.1.1 in c:\\users\\manami\\anaconda3\\envs\\newgpu\\lib\\site-packages (from scikit-image>=0.18.1->-r requirement (1).txt (line 9)) (1.1.1)\n",
            "Requirement already satisfied: flatbuffers>=1.12 in c:\\users\\manami\\anaconda3\\envs\\newgpu\\lib\\site-packages (from tensorflow-gpu>=2.4.1->-r requirement (1).txt (line 11)) (1.12)\n",
            "Requirement already satisfied: libclang>=9.0.1 in c:\\users\\manami\\anaconda3\\envs\\newgpu\\lib\\site-packages (from tensorflow-gpu>=2.4.1->-r requirement (1).txt (line 11)) (13.0.0)\n",
            "Requirement already satisfied: setuptools in c:\\users\\manami\\anaconda3\\envs\\newgpu\\lib\\site-packages (from tensorflow-gpu>=2.4.1->-r requirement (1).txt (line 11)) (52.0.0.post20210125)\n",
            "Requirement already satisfied: typing-extensions>=3.6.6 in c:\\users\\manami\\anaconda3\\envs\\newgpu\\lib\\site-packages (from tensorflow-gpu>=2.4.1->-r requirement (1).txt (line 11)) (4.1.1)\n",
            "Requirement already satisfied: gast>=0.2.1 in c:\\users\\manami\\anaconda3\\envs\\newgpu\\lib\\site-packages (from tensorflow-gpu>=2.4.1->-r requirement (1).txt (line 11)) (0.4.0)\n",
            "Requirement already satisfied: grpcio<2.0,>=1.24.3 in c:\\users\\manami\\anaconda3\\envs\\newgpu\\lib\\site-packages (from tensorflow-gpu>=2.4.1->-r requirement (1).txt (line 11)) (1.39.0)\n",
            "Requirement already satisfied: six>=1.12.0 in c:\\users\\manami\\anaconda3\\envs\\newgpu\\lib\\site-packages (from tensorflow-gpu>=2.4.1->-r requirement (1).txt (line 11)) (1.15.0)\n",
            "Requirement already satisfied: wrapt>=1.11.0 in c:\\users\\manami\\anaconda3\\envs\\newgpu\\lib\\site-packages (from tensorflow-gpu>=2.4.1->-r requirement (1).txt (line 11)) (1.12.1)\n",
            "Requirement already satisfied: tensorboard<2.9,>=2.8 in c:\\users\\manami\\anaconda3\\envs\\newgpu\\lib\\site-packages (from tensorflow-gpu>=2.4.1->-r requirement (1).txt (line 11)) (2.8.0)\n",
            "Requirement already satisfied: opt-einsum>=2.3.2 in c:\\users\\manami\\anaconda3\\envs\\newgpu\\lib\\site-packages (from tensorflow-gpu>=2.4.1->-r requirement (1).txt (line 11)) (3.3.0)\n",
            "Requirement already satisfied: protobuf>=3.9.2 in c:\\users\\manami\\anaconda3\\envs\\newgpu\\lib\\site-packages (from tensorflow-gpu>=2.4.1->-r requirement (1).txt (line 11)) (3.17.3)\n",
            "Requirement already satisfied: google-pasta>=0.1.1 in c:\\users\\manami\\anaconda3\\envs\\newgpu\\lib\\site-packages (from tensorflow-gpu>=2.4.1->-r requirement (1).txt (line 11)) (0.2.0)\n",
            "Requirement already satisfied: tf-estimator-nightly==2.8.0.dev2021122109 in c:\\users\\manami\\anaconda3\\envs\\newgpu\\lib\\site-packages (from tensorflow-gpu>=2.4.1->-r requirement (1).txt (line 11)) (2.8.0.dev2021122109)\n",
            "Requirement already satisfied: termcolor>=1.1.0 in c:\\users\\manami\\anaconda3\\envs\\newgpu\\lib\\site-packages (from tensorflow-gpu>=2.4.1->-r requirement (1).txt (line 11)) (1.1.0)\n",
            "Requirement already satisfied: keras-preprocessing>=1.1.1 in c:\\users\\manami\\anaconda3\\envs\\newgpu\\lib\\site-packages (from tensorflow-gpu>=2.4.1->-r requirement (1).txt (line 11)) (1.1.2)\n",
            "Requirement already satisfied: h5py>=2.9.0 in c:\\users\\manami\\anaconda3\\envs\\newgpu\\lib\\site-packages (from tensorflow-gpu>=2.4.1->-r requirement (1).txt (line 11)) (3.1.0)\n",
            "Requirement already satisfied: absl-py>=0.4.0 in c:\\users\\manami\\anaconda3\\envs\\newgpu\\lib\\site-packages (from tensorflow-gpu>=2.4.1->-r requirement (1).txt (line 11)) (0.13.0)\n",
            "Requirement already satisfied: astunparse>=1.6.0 in c:\\users\\manami\\anaconda3\\envs\\newgpu\\lib\\site-packages (from tensorflow-gpu>=2.4.1->-r requirement (1).txt (line 11)) (1.6.3)\n",
            "Requirement already satisfied: tensorflow-io-gcs-filesystem>=0.23.1 in c:\\users\\manami\\anaconda3\\envs\\newgpu\\lib\\site-packages (from tensorflow-gpu>=2.4.1->-r requirement (1).txt (line 11)) (0.24.0)\n",
            "Requirement already satisfied: wheel<1.0,>=0.23.0 in c:\\users\\manami\\anaconda3\\envs\\newgpu\\lib\\site-packages (from astunparse>=1.6.0->tensorflow-gpu>=2.4.1->-r requirement (1).txt (line 11)) (0.36.2)\n",
            "Requirement already satisfied: cached-property in c:\\users\\manami\\anaconda3\\envs\\newgpu\\lib\\site-packages (from h5py>=2.9.0->tensorflow-gpu>=2.4.1->-r requirement (1).txt (line 11)) (1.5.2)\n",
            "Requirement already satisfied: pywin32>=1.0 in c:\\users\\manami\\anaconda3\\envs\\newgpu\\lib\\site-packages (from jupyter-core>=4.6.1->notebook>=6.3.0->-r requirement (1).txt (line 1)) (228)\n",
            "Requirement already satisfied: llvmlite<0.39,>=0.38.0rc1 in c:\\users\\manami\\anaconda3\\envs\\newgpu\\lib\\site-packages (from numba>=0.45.1->librosa==0.9.1->-r requirement (1).txt (line 14)) (0.38.0)\n",
            "Requirement already satisfied: requests>=2.19.0 in c:\\users\\manami\\anaconda3\\envs\\newgpu\\lib\\site-packages (from pooch>=1.0->librosa==0.9.1->-r requirement (1).txt (line 14)) (2.26.0)\n",
            "Requirement already satisfied: appdirs>=1.3.0 in c:\\users\\manami\\anaconda3\\envs\\newgpu\\lib\\site-packages (from pooch>=1.0->librosa==0.9.1->-r requirement (1).txt (line 14)) (1.4.4)\n",
            "Requirement already satisfied: urllib3<1.27,>=1.21.1 in c:\\users\\manami\\anaconda3\\envs\\newgpu\\lib\\site-packages (from requests>=2.19.0->pooch>=1.0->librosa==0.9.1->-r requirement (1).txt (line 14)) (1.26.6)\n",
            "Requirement already satisfied: certifi>=2017.4.17 in c:\\users\\manami\\anaconda3\\envs\\newgpu\\lib\\site-packages (from requests>=2.19.0->pooch>=1.0->librosa==0.9.1->-r requirement (1).txt (line 14)) (2021.10.8)\n",
            "Requirement already satisfied: charset-normalizer~=2.0.0 in c:\\users\\manami\\anaconda3\\envs\\newgpu\\lib\\site-packages (from requests>=2.19.0->pooch>=1.0->librosa==0.9.1->-r requirement (1).txt (line 14)) (2.0.4)\n",
            "Requirement already satisfied: idna<4,>=2.5 in c:\\users\\manami\\anaconda3\\envs\\newgpu\\lib\\site-packages (from requests>=2.19.0->pooch>=1.0->librosa==0.9.1->-r requirement (1).txt (line 14)) (3.2)\n",
            "Requirement already satisfied: cffi>=1.0 in c:\\users\\manami\\anaconda3\\envs\\newgpu\\lib\\site-packages (from soundfile>=0.10.2->librosa==0.9.1->-r requirement (1).txt (line 14)) (1.14.6)\n",
            "Requirement already satisfied: pycparser in c:\\users\\manami\\anaconda3\\envs\\newgpu\\lib\\site-packages (from cffi>=1.0->soundfile>=0.10.2->librosa==0.9.1->-r requirement (1).txt (line 14)) (2.20)\n",
            "Requirement already satisfied: tensorboard-plugin-wit>=1.6.0 in c:\\users\\manami\\anaconda3\\envs\\newgpu\\lib\\site-packages (from tensorboard<2.9,>=2.8->tensorflow-gpu>=2.4.1->-r requirement (1).txt (line 11)) (1.8.0)\n",
            "Requirement already satisfied: markdown>=2.6.8 in c:\\users\\manami\\anaconda3\\envs\\newgpu\\lib\\site-packages (from tensorboard<2.9,>=2.8->tensorflow-gpu>=2.4.1->-r requirement (1).txt (line 11)) (3.3.4)\n",
            "Requirement already satisfied: google-auth<3,>=1.6.3 in c:\\users\\manami\\anaconda3\\envs\\newgpu\\lib\\site-packages (from tensorboard<2.9,>=2.8->tensorflow-gpu>=2.4.1->-r requirement (1).txt (line 11)) (1.35.0)\n",
            "Requirement already satisfied: google-auth-oauthlib<0.5,>=0.4.1 in c:\\users\\manami\\anaconda3\\envs\\newgpu\\lib\\site-packages (from tensorboard<2.9,>=2.8->tensorflow-gpu>=2.4.1->-r requirement (1).txt (line 11)) (0.4.5)\n",
            "Requirement already satisfied: tensorboard-data-server<0.7.0,>=0.6.0 in c:\\users\\manami\\anaconda3\\envs\\newgpu\\lib\\site-packages (from tensorboard<2.9,>=2.8->tensorflow-gpu>=2.4.1->-r requirement (1).txt (line 11)) (0.6.1)\n",
            "Requirement already satisfied: werkzeug>=0.11.15 in c:\\users\\manami\\anaconda3\\envs\\newgpu\\lib\\site-packages (from tensorboard<2.9,>=2.8->tensorflow-gpu>=2.4.1->-r requirement (1).txt (line 11)) (2.0.1)\n",
            "Requirement already satisfied: cachetools<5.0,>=2.0.0 in c:\\users\\manami\\anaconda3\\envs\\newgpu\\lib\\site-packages (from google-auth<3,>=1.6.3->tensorboard<2.9,>=2.8->tensorflow-gpu>=2.4.1->-r requirement (1).txt (line 11)) (4.2.2)\n",
            "Requirement already satisfied: rsa<5,>=3.1.4 in c:\\users\\manami\\anaconda3\\envs\\newgpu\\lib\\site-packages (from google-auth<3,>=1.6.3->tensorboard<2.9,>=2.8->tensorflow-gpu>=2.4.1->-r requirement (1).txt (line 11)) (4.7.2)\n",
            "Requirement already satisfied: pyasn1-modules>=0.2.1 in c:\\users\\manami\\anaconda3\\envs\\newgpu\\lib\\site-packages (from google-auth<3,>=1.6.3->tensorboard<2.9,>=2.8->tensorflow-gpu>=2.4.1->-r requirement (1).txt (line 11)) (0.2.8)\n",
            "Requirement already satisfied: requests-oauthlib>=0.7.0 in c:\\users\\manami\\anaconda3\\envs\\newgpu\\lib\\site-packages (from google-auth-oauthlib<0.5,>=0.4.1->tensorboard<2.9,>=2.8->tensorflow-gpu>=2.4.1->-r requirement (1).txt (line 11)) (1.3.0)\n",
            "Requirement already satisfied: importlib-metadata in c:\\users\\manami\\anaconda3\\envs\\newgpu\\lib\\site-packages (from markdown>=2.6.8->tensorboard<2.9,>=2.8->tensorflow-gpu>=2.4.1->-r requirement (1).txt (line 11)) (4.6.4)\n",
            "Requirement already satisfied: pyasn1<0.5.0,>=0.4.6 in c:\\users\\manami\\anaconda3\\envs\\newgpu\\lib\\site-packages (from pyasn1-modules>=0.2.1->google-auth<3,>=1.6.3->tensorboard<2.9,>=2.8->tensorflow-gpu>=2.4.1->-r requirement (1).txt (line 11)) (0.4.8)\n",
            "Requirement already satisfied: oauthlib>=3.0.0 in c:\\users\\manami\\anaconda3\\envs\\newgpu\\lib\\site-packages (from requests-oauthlib>=0.7.0->google-auth-oauthlib<0.5,>=0.4.1->tensorboard<2.9,>=2.8->tensorflow-gpu>=2.4.1->-r requirement (1).txt (line 11)) (3.1.1)\n",
            "Requirement already satisfied: pywinpty>=1.1.0 in c:\\users\\manami\\anaconda3\\envs\\newgpu\\lib\\site-packages (from terminado>=0.8.3->notebook>=6.3.0->-r requirement (1).txt (line 1)) (2.0.2)\n",
            "Requirement already satisfied: argon2-cffi-bindings in c:\\users\\manami\\anaconda3\\envs\\newgpu\\lib\\site-packages (from argon2-cffi->notebook>=6.3.0->-r requirement (1).txt (line 1)) (21.2.0)\n",
            "Requirement already satisfied: zipp>=0.5 in c:\\users\\manami\\anaconda3\\envs\\newgpu\\lib\\site-packages (from importlib-metadata->markdown>=2.6.8->tensorboard<2.9,>=2.8->tensorflow-gpu>=2.4.1->-r requirement (1).txt (line 11)) (3.5.0)\n",
            "Requirement already satisfied: ipython>=5.0.0 in c:\\users\\manami\\anaconda3\\envs\\newgpu\\lib\\site-packages (from ipykernel->notebook>=6.3.0->-r requirement (1).txt (line 1)) (7.22.0)\n",
            "Requirement already satisfied: pygments in c:\\users\\manami\\anaconda3\\envs\\newgpu\\lib\\site-packages (from ipython>=5.0.0->ipykernel->notebook>=6.3.0->-r requirement (1).txt (line 1)) (2.9.0)\n",
            "Requirement already satisfied: pickleshare in c:\\users\\manami\\anaconda3\\envs\\newgpu\\lib\\site-packages (from ipython>=5.0.0->ipykernel->notebook>=6.3.0->-r requirement (1).txt (line 1)) (0.7.5)\n",
            "Requirement already satisfied: jedi>=0.16 in c:\\users\\manami\\anaconda3\\envs\\newgpu\\lib\\site-packages (from ipython>=5.0.0->ipykernel->notebook>=6.3.0->-r requirement (1).txt (line 1)) (0.17.0)\n",
            "Requirement already satisfied: backcall in c:\\users\\manami\\anaconda3\\envs\\newgpu\\lib\\site-packages (from ipython>=5.0.0->ipykernel->notebook>=6.3.0->-r requirement (1).txt (line 1)) (0.2.0)\n",
            "Requirement already satisfied: prompt-toolkit!=3.0.0,!=3.0.1,<3.1.0,>=2.0.0 in c:\\users\\manami\\anaconda3\\envs\\newgpu\\lib\\site-packages (from ipython>=5.0.0->ipykernel->notebook>=6.3.0->-r requirement (1).txt (line 1)) (3.0.17)\n",
            "Requirement already satisfied: parso>=0.7.0 in c:\\users\\manami\\anaconda3\\envs\\newgpu\\lib\\site-packages (from jedi>=0.16->ipython>=5.0.0->ipykernel->notebook>=6.3.0->-r requirement (1).txt (line 1)) (0.8.2)\n",
            "Requirement already satisfied: wcwidth in c:\\users\\manami\\anaconda3\\envs\\newgpu\\lib\\site-packages (from prompt-toolkit!=3.0.0,!=3.0.1,<3.1.0,>=2.0.0->ipython>=5.0.0->ipykernel->notebook>=6.3.0->-r requirement (1).txt (line 1)) (0.2.5)\n",
            "Requirement already satisfied: MarkupSafe>=2.0 in c:\\users\\manami\\anaconda3\\envs\\newgpu\\lib\\site-packages (from jinja2->notebook>=6.3.0->-r requirement (1).txt (line 1)) (2.0.1)\n",
            "Requirement already satisfied: pyyaml>=5.2 in c:\\users\\manami\\anaconda3\\envs\\newgpu\\lib\\site-packages (from libcst->ast-tools>=0.1.4->-r requirement (1).txt (line 5)) (5.4.1)\n",
            "Requirement already satisfied: typing-inspect>=0.4.0 in c:\\users\\manami\\anaconda3\\envs\\newgpu\\lib\\site-packages (from libcst->ast-tools>=0.1.4->-r requirement (1).txt (line 5)) (0.7.1)\n",
            "Requirement already satisfied: mypy-extensions>=0.3.0 in c:\\users\\manami\\anaconda3\\envs\\newgpu\\lib\\site-packages (from typing-inspect>=0.4.0->libcst->ast-tools>=0.1.4->-r requirement (1).txt (line 5)) (0.4.3)\n",
            "Requirement already satisfied: mistune<2,>=0.8.1 in c:\\users\\manami\\anaconda3\\envs\\newgpu\\lib\\site-packages (from nbconvert->notebook>=6.3.0->-r requirement (1).txt (line 1)) (0.8.4)\n",
            "Requirement already satisfied: entrypoints>=0.2.2 in c:\\users\\manami\\anaconda3\\envs\\newgpu\\lib\\site-packages (from nbconvert->notebook>=6.3.0->-r requirement (1).txt (line 1)) (0.4)\n",
            "Requirement already satisfied: defusedxml in c:\\users\\manami\\anaconda3\\envs\\newgpu\\lib\\site-packages (from nbconvert->notebook>=6.3.0->-r requirement (1).txt (line 1)) (0.7.1)\n",
            "Requirement already satisfied: bleach in c:\\users\\manami\\anaconda3\\envs\\newgpu\\lib\\site-packages (from nbconvert->notebook>=6.3.0->-r requirement (1).txt (line 1)) (4.1.0)\n",
            "Requirement already satisfied: pandocfilters>=1.4.1 in c:\\users\\manami\\anaconda3\\envs\\newgpu\\lib\\site-packages (from nbconvert->notebook>=6.3.0->-r requirement (1).txt (line 1)) (1.5.0)\n",
            "Requirement already satisfied: nbclient<0.6.0,>=0.5.0 in c:\\users\\manami\\anaconda3\\envs\\newgpu\\lib\\site-packages (from nbconvert->notebook>=6.3.0->-r requirement (1).txt (line 1)) (0.5.11)\n",
            "Requirement already satisfied: jupyterlab-pygments in c:\\users\\manami\\anaconda3\\envs\\newgpu\\lib\\site-packages (from nbconvert->notebook>=6.3.0->-r requirement (1).txt (line 1)) (0.1.2)\n",
            "Requirement already satisfied: testpath in c:\\users\\manami\\anaconda3\\envs\\newgpu\\lib\\site-packages (from nbconvert->notebook>=6.3.0->-r requirement (1).txt (line 1)) (0.6.0)\n",
            "Requirement already satisfied: jsonschema!=2.5.0,>=2.4 in c:\\users\\manami\\anaconda3\\envs\\newgpu\\lib\\site-packages (from nbformat->notebook>=6.3.0->-r requirement (1).txt (line 1)) (4.4.0)\n",
            "Requirement already satisfied: pyrsistent!=0.17.0,!=0.17.1,!=0.17.2,>=0.14.0 in c:\\users\\manami\\anaconda3\\envs\\newgpu\\lib\\site-packages (from jsonschema!=2.5.0,>=2.4->nbformat->notebook>=6.3.0->-r requirement (1).txt (line 1)) (0.18.1)\n",
            "Requirement already satisfied: importlib-resources>=1.4.0 in c:\\users\\manami\\anaconda3\\envs\\newgpu\\lib\\site-packages (from jsonschema!=2.5.0,>=2.4->nbformat->notebook>=6.3.0->-r requirement (1).txt (line 1)) (5.4.0)\n",
            "Requirement already satisfied: attrs>=17.4.0 in c:\\users\\manami\\anaconda3\\envs\\newgpu\\lib\\site-packages (from jsonschema!=2.5.0,>=2.4->nbformat->notebook>=6.3.0->-r requirement (1).txt (line 1)) (21.4.0)\n",
            "Requirement already satisfied: webencodings in c:\\users\\manami\\anaconda3\\envs\\newgpu\\lib\\site-packages (from bleach->nbconvert->notebook>=6.3.0->-r requirement (1).txt (line 1)) (0.5.1)\n"
          ]
        }
      ],
      "source": [
        "!pip install -r \"requirement (1).txt\""
      ]
    },
    {
      "cell_type": "markdown",
      "metadata": {
        "id": "YwtlWUP6Cvnx"
      },
      "source": [
        "### utility libraries"
      ]
    },
    {
      "cell_type": "code",
      "execution_count": 45,
      "metadata": {
        "execution": {
          "iopub.execute_input": "2022-03-29T22:25:21.927491Z",
          "iopub.status.busy": "2022-03-29T22:25:21.927201Z",
          "iopub.status.idle": "2022-03-29T22:25:21.932954Z",
          "shell.execute_reply": "2022-03-29T22:25:21.932266Z",
          "shell.execute_reply.started": "2022-03-29T22:25:21.927458Z"
        },
        "id": "qK8gDztaCvnz",
        "trusted": true
      },
      "outputs": [],
      "source": [
        "import os\n",
        "import glob\n",
        "import pathlib\n",
        "from IPython import display\n",
        "from pathlib import Path\n",
        "from IPython.display import Audio\n",
        "import matplotlib.pyplot as plt\n",
        "\n",
        "# data handling libraries\n",
        "import numpy as np\n",
        "import librosa\n",
        "import librosa.display\n",
        "import pandas as pd\n",
        "from sklearn.model_selection import train_test_split\n",
        "\n",
        "# ML and DL Libraries\n",
        "import tensorflow as tf\n",
        "import tensorflow.keras as keras\n",
        "from sklearn.model_selection import KFold"
      ]
    },
    {
      "cell_type": "markdown",
      "metadata": {
        "id": "HpmUVJHbCvn1"
      },
      "source": [
        "### Declaring Hyperparameters"
      ]
    },
    {
      "cell_type": "code",
      "execution_count": 46,
      "metadata": {
        "execution": {
          "iopub.execute_input": "2022-03-29T22:25:22.007973Z",
          "iopub.status.busy": "2022-03-29T22:25:22.007399Z",
          "iopub.status.idle": "2022-03-29T22:25:22.012307Z",
          "shell.execute_reply": "2022-03-29T22:25:22.011659Z",
          "shell.execute_reply.started": "2022-03-29T22:25:22.007938Z"
        },
        "id": "yJtHi8-2Cvn2",
        "trusted": true
      },
      "outputs": [],
      "source": [
        "seed = 42\n",
        "SR = 16000 #sampling rate of each audio file\n",
        "BATCH_SIZE = 1\n",
        "AUD_LENGTH = 10# we are taking 10s audio for each sample to have an uniform dataset\n",
        "TRAIN_TEST_SPLIT = 0.3"
      ]
    },
    {
      "cell_type": "markdown",
      "metadata": {
        "id": "A_rifueMCvn3"
      },
      "source": [
        "### All file paths"
      ]
    },
    {
      "cell_type": "code",
      "execution_count": 47,
      "metadata": {
        "execution": {
          "iopub.execute_input": "2022-03-29T22:25:22.111085Z",
          "iopub.status.busy": "2022-03-29T22:25:22.110874Z",
          "iopub.status.idle": "2022-03-29T22:25:22.115506Z",
          "shell.execute_reply": "2022-03-29T22:25:22.114845Z",
          "shell.execute_reply.started": "2022-03-29T22:25:22.111060Z"
        },
        "id": "3kF3PhMXCvn4",
        "trusted": true
      },
      "outputs": [],
      "source": [
        "# # insert needed paths here\n",
        "# # this is the known and unknown dataset path\n",
        "# CLASSWISE_DATASET_PATH = '/content/drive/MyDrive/resnet1D_raw_wave_submission/Dataset/classwise_dataset/'\n",
        "\n",
        "# # this is the random extra data addition folders\n",
        "# ASVSPOOF_DATA_PATH  = '/content/drive/MyDrive/resnet1D_raw_wave_submission/Dataset/external_data_sources/asvspoof19_1000'\n",
        "# LIBRISPEECH_DATA_PATH = '/content/drive/MyDrive/resnet1D_raw_wave_submission/Dataset/external_data_sources/librispeech_1000'\n",
        "\n",
        "# this is the evaluation folder for phase 1 and 2\n",
        "EVAL_PATH_1 = 'spcup_2022_eval_part1'\n",
        "EVAL_PATH_2 = 'spcup_2022_eval_part2'\n",
        "\n",
        "# loading paths \n",
        "\n",
        "MODEL_WEIGHTS_FOLDER = 'No Spoof'\n",
        "# ### saving paths\n",
        "# CSV_DIR = '/content/drive/MyDrive/resnet1D_raw_wave_submission/Output_files/custom_training'\n",
        "# MODEL_SAVE_DIR = '/content/drive/MyDrive/resnet1D_raw_wave_submission/Output_files/custom_training'\n",
        "# WEIGHT_SAVE_DIR = '/content/drive/MyDrive/resnet1D_raw_wave_submission/Output_files/custom_training'"
      ]
    },
    {
      "cell_type": "markdown",
      "metadata": {
        "id": "6paK_sPvCvn6"
      },
      "source": [
        "# 1. Necessary Functions"
      ]
    },
    {
      "cell_type": "code",
      "execution_count": 48,
      "metadata": {
        "execution": {
          "iopub.execute_input": "2022-03-29T22:25:22.202824Z",
          "iopub.status.busy": "2022-03-29T22:25:22.202535Z",
          "iopub.status.idle": "2022-03-29T22:25:22.210206Z",
          "shell.execute_reply": "2022-03-29T22:25:22.209482Z",
          "shell.execute_reply.started": "2022-03-29T22:25:22.202796Z"
        },
        "id": "NPr6caxTCvn7",
        "trusted": true
      },
      "outputs": [],
      "source": [
        "# utility functions for repeating audio files\n",
        "def repeated_data(file_path):\n",
        "    \"\"\" This function will take a file path and give out truncated and padded to 10s version waveform\"\"\"\n",
        "    y, sr = librosa.load(file_path,sr=SR)\n",
        "    aud_length = AUD_LENGTH*sr # making all audio length 10 s and truncating the rest\n",
        "    duration = librosa.get_duration(y=y, sr=sr)\n",
        "    if duration < AUD_LENGTH:\n",
        "        y = np.tile(y, int((aud_length/sr) // duration)+1)\n",
        "    y = librosa.resample(y[:aud_length], orig_sr=sr, target_sr=SR)\n",
        "    return y\n",
        "\n",
        "def repeated_dataset(dataset):\n",
        "    \"\"\" This function generated waveshape dataset\"\"\"\n",
        "    new_ds = []\n",
        "    for f in dataset:\n",
        "        new_ds.append(repeated_data(f))\n",
        "    return new_ds"
      ]
    },
    {
      "cell_type": "code",
      "execution_count": 49,
      "metadata": {
        "execution": {
          "iopub.execute_input": "2022-03-29T22:25:22.257657Z",
          "iopub.status.busy": "2022-03-29T22:25:22.257113Z",
          "iopub.status.idle": "2022-03-29T22:25:22.264992Z",
          "shell.execute_reply": "2022-03-29T22:25:22.264159Z",
          "shell.execute_reply.started": "2022-03-29T22:25:22.257622Z"
        },
        "id": "gKec9B5eCvn8",
        "trusted": true
      },
      "outputs": [],
      "source": [
        "def ensemble_predictions(model_weights_folder, testX,testy=1):\n",
        "    cv_folders = os.listdir(MODEL_WEIGHTS_FOLDER)   \n",
        "    \n",
        "    model_history = list()\n",
        "\n",
        "    for i in range(len(cv_folders)//2):\n",
        "        model_name = os.path.join(MODEL_WEIGHTS_FOLDER,f\"model_TSSDnet_asvspoof_cv{i}fold_.h5\")\n",
        "        weight_name = os.path.join(MODEL_WEIGHTS_FOLDER,f\"weight_TSSDnet_asvspoof_normal_cv{i}fold_.h5\")\n",
        "        \n",
        "        model = tf.keras.models.load_model(model_name)\n",
        "        model.load_weights(weight_name)\n",
        "        \n",
        "        model_history.append(model)\n",
        "        \n",
        "    print(len(testX))\n",
        "    yhats = [model.predict(testX) for model in model_history]\n",
        "    yhats = np.array(yhats)\n",
        "    print('yhats', yhats.shape)\n",
        "    # sum across ensemble members\n",
        "    summed = np.sum(yhats, axis=0)\n",
        "    print('summed', summed.shape)\n",
        "    # argmax across classes\n",
        "    result = np.argmax(summed, axis=1)\n",
        "    print('result', result.shape)\n",
        "    return result"
      ]
    },
    {
      "cell_type": "code",
      "execution_count": 50,
      "metadata": {
        "execution": {
          "iopub.execute_input": "2022-03-29T22:25:22.293270Z",
          "iopub.status.busy": "2022-03-29T22:25:22.293082Z",
          "iopub.status.idle": "2022-03-29T22:25:22.304166Z",
          "shell.execute_reply": "2022-03-29T22:25:22.303546Z",
          "shell.execute_reply.started": "2022-03-29T22:25:22.293246Z"
        },
        "id": "PPuDeFatCvn9",
        "trusted": true
      },
      "outputs": [],
      "source": [
        "class DataGenerator(tf.keras.utils.Sequence):\n",
        "    'Generates data for Keras'\n",
        "    def __init__(self, list_IDs, labels, batch_size=BATCH_SIZE, \n",
        "                 n_classes=6, shuffle=True):\n",
        "        'Initialization'\n",
        "        self.dim = AUD_LENGTH * SR\n",
        "        self.batch_size = batch_size\n",
        "        self.labels = labels\n",
        "        self.shuffle = shuffle\n",
        "        self.list_IDs = list_IDs\n",
        "        self.on_epoch_end()\n",
        "\n",
        "    def path_to_audio(self,path):\n",
        "        \"\"\"Reads and decodes an audio file.\"\"\"\n",
        "        return repeated_data(path)\n",
        "\n",
        "    def __len__(self):\n",
        "        'Denotes the number of batches per epoch'\n",
        "        return int(np.floor(len(self.list_IDs) / self.batch_size))\n",
        "\n",
        "    def __getitem__(self, index):\n",
        "        'Generate one batch of data'\n",
        "        # Generate indexes of the batch\n",
        "        indexes = self.indexes[index*self.batch_size:(index+1)*self.batch_size]\n",
        "\n",
        "        # Generate data\n",
        "        X, y = self.__data_generation(indexes)\n",
        "\n",
        "        return X, y\n",
        "\n",
        "    def on_epoch_end(self):\n",
        "        'Updates indexes after each epoch'\n",
        "        self.indexes = np.arange(len(self.list_IDs))\n",
        "        if self.shuffle == True:\n",
        "            np.random.shuffle(self.indexes)\n",
        "\n",
        "    def __data_generation(self, list_IDs_temp):\n",
        "        'Generates data containing batch_size samples' \n",
        "\n",
        "        X = []\n",
        "        y = []\n",
        "        # Generate data\n",
        "        for i, ID in enumerate(list_IDs_temp):\n",
        "            # Store sample\n",
        "            _tempx = self.path_to_audio(self.list_IDs[ID])\n",
        "            X.append(_tempx)\n",
        "\n",
        "            # Store class\n",
        "            y.append(self.labels[ID])\n",
        "\n",
        "        return np.reshape(np.array(X), (self.batch_size,SR*AUD_LENGTH,1)).astype(np.float32),np.array(y).astype(np.float32)"
      ]
    },
    {
      "cell_type": "markdown",
      "metadata": {
        "id": "LW9S_1jSCvn_"
      },
      "source": [
        "# 2. Evaluation"
      ]
    },
    {
      "cell_type": "markdown",
      "metadata": {
        "id": "vPvKAvIXCvoA"
      },
      "source": [
        "## A. Generating prediction for phase 1 evaluation dataset¶\n"
      ]
    },
    {
      "cell_type": "code",
      "execution_count": 51,
      "metadata": {
        "colab": {
          "base_uri": "https://localhost:8080/"
        },
        "execution": {
          "iopub.execute_input": "2022-03-29T22:25:22.311221Z",
          "iopub.status.busy": "2022-03-29T22:25:22.311034Z",
          "iopub.status.idle": "2022-03-29T22:25:22.524632Z",
          "shell.execute_reply": "2022-03-29T22:25:22.523821Z",
          "shell.execute_reply.started": "2022-03-29T22:25:22.311190Z"
        },
        "id": "llXxhCDqCvoA",
        "outputId": "1f3ac0e6-f012-4258-a07d-911397a3fbd2",
        "trusted": true
      },
      "outputs": [
        {
          "name": "stdout",
          "output_type": "stream",
          "text": [
            "Found 9000 files\n"
          ]
        }
      ],
      "source": [
        "eval_path = EVAL_PATH_1\n",
        "speaker_sample_paths = [\n",
        "        os.path.join(eval_path, filepath)\n",
        "        for filepath in os.listdir(eval_path)\n",
        "        if filepath.endswith(\".wav\")\n",
        "    ]\n",
        "X_eval = []\n",
        "X_eval += speaker_sample_paths\n",
        "\n",
        "print(\n",
        "    \"Found {} files\".format(len(X_eval))\n",
        ")"
      ]
    },
    {
      "cell_type": "code",
      "execution_count": 52,
      "metadata": {
        "execution": {
          "iopub.execute_input": "2022-03-29T22:25:22.526465Z",
          "iopub.status.busy": "2022-03-29T22:25:22.526250Z",
          "iopub.status.idle": "2022-03-29T22:25:22.560346Z",
          "shell.execute_reply": "2022-03-29T22:25:22.559725Z",
          "shell.execute_reply.started": "2022-03-29T22:25:22.526434Z"
        },
        "id": "_7fL2EFkCvoB",
        "trusted": true
      },
      "outputs": [],
      "source": [
        "# making a column of names\n",
        "import os\n",
        "n = len(X_eval)\n",
        "filenames = []\n",
        "for i in range(n):\n",
        "    f_name, f_ext = os.path.splitext(X_eval[i])\n",
        "    filenames.append(os.path.basename(f_name)+f_ext)"
      ]
    },
    {
      "cell_type": "code",
      "execution_count": 53,
      "metadata": {
        "colab": {
          "base_uri": "https://localhost:8080/"
        },
        "id": "Z5hqkLQ8lQ5E",
        "outputId": "e9ca1b1d-8d58-4fe5-9025-9aded7b37e26"
      },
      "outputs": [
        {
          "data": {
            "text/plain": [
              "0"
            ]
          },
          "execution_count": 53,
          "metadata": {},
          "output_type": "execute_result"
        }
      ],
      "source": [
        "count = 0\n",
        "for i in X_eval:\n",
        "  if i[-7:-4]==\"(1)\" or i[-7:-4]==\"(2)\":\n",
        "    count+=1\n",
        "count"
      ]
    },
    {
      "cell_type": "code",
      "execution_count": 54,
      "metadata": {
        "colab": {
          "base_uri": "https://localhost:8080/"
        },
        "execution": {
          "iopub.execute_input": "2022-03-29T22:25:22.561771Z",
          "iopub.status.busy": "2022-03-29T22:25:22.561530Z",
          "iopub.status.idle": "2022-03-29T22:25:22.567352Z",
          "shell.execute_reply": "2022-03-29T22:25:22.566550Z",
          "shell.execute_reply.started": "2022-03-29T22:25:22.561738Z"
        },
        "id": "zEBhoZMcCvoC",
        "outputId": "0d5302b7-0df9-4708-add0-7e1f3ae9dba1",
        "trusted": true
      },
      "outputs": [
        {
          "name": "stdout",
          "output_type": "stream",
          "text": [
            "9000 9000\n"
          ]
        }
      ],
      "source": [
        "y_eval = [0]*len(X_eval)\n",
        "print(len(X_eval),len(y_eval))"
      ]
    },
    {
      "cell_type": "code",
      "execution_count": 55,
      "metadata": {
        "execution": {
          "iopub.execute_input": "2022-03-29T22:25:22.570558Z",
          "iopub.status.busy": "2022-03-29T22:25:22.569559Z",
          "iopub.status.idle": "2022-03-29T22:25:22.576188Z",
          "shell.execute_reply": "2022-03-29T22:25:22.575471Z",
          "shell.execute_reply.started": "2022-03-29T22:25:22.570520Z"
        },
        "id": "d6tZBKuTCvoC",
        "trusted": true
      },
      "outputs": [],
      "source": [
        "eval_ds = DataGenerator(X_eval,y_eval,shuffle=False)"
      ]
    },
    {
      "cell_type": "code",
      "execution_count": 56,
      "metadata": {
        "execution": {
          "iopub.execute_input": "2022-03-29T22:25:22.577282Z",
          "iopub.status.busy": "2022-03-29T22:25:22.577078Z",
          "iopub.status.idle": "2022-03-29T22:28:57.349603Z",
          "shell.execute_reply": "2022-03-29T22:28:57.348782Z",
          "shell.execute_reply.started": "2022-03-29T22:25:22.577259Z"
        },
        "id": "Pro9vaGpCvoC",
        "trusted": true
      },
      "outputs": [
        {
          "name": "stdout",
          "output_type": "stream",
          "text": [
            "9000\n",
            "yhats (5, 9000, 6)\n",
            "summed (9000, 6)\n",
            "result (9000,)\n"
          ]
        }
      ],
      "source": [
        "pred_class = ensemble_predictions(MODEL_WEIGHTS_FOLDER, eval_ds)"
      ]
    },
    {
      "cell_type": "code",
      "execution_count": 57,
      "metadata": {
        "id": "BAgGY4nTR7rU"
      },
      "outputs": [
        {
          "name": "stdout",
          "output_type": "stream",
          "text": [
            "9000 9000\n"
          ]
        }
      ],
      "source": [
        "print(len(filenames), len(pred_class))"
      ]
    },
    {
      "cell_type": "code",
      "execution_count": 58,
      "metadata": {
        "execution": {
          "iopub.execute_input": "2022-03-29T22:28:57.351242Z",
          "iopub.status.busy": "2022-03-29T22:28:57.350992Z",
          "iopub.status.idle": "2022-03-29T22:28:57.372242Z",
          "shell.execute_reply": "2022-03-29T22:28:57.371481Z",
          "shell.execute_reply.started": "2022-03-29T22:28:57.351207Z"
        },
        "id": "dD51Ku2sCvoD",
        "trusted": true
      },
      "outputs": [
        {
          "data": {
            "text/html": [
              "<div>\n",
              "<style scoped>\n",
              "    .dataframe tbody tr th:only-of-type {\n",
              "        vertical-align: middle;\n",
              "    }\n",
              "\n",
              "    .dataframe tbody tr th {\n",
              "        vertical-align: top;\n",
              "    }\n",
              "\n",
              "    .dataframe thead th {\n",
              "        text-align: right;\n",
              "    }\n",
              "</style>\n",
              "<table border=\"1\" class=\"dataframe\">\n",
              "  <thead>\n",
              "    <tr style=\"text-align: right;\">\n",
              "      <th></th>\n",
              "      <th>file</th>\n",
              "      <th>pred_class</th>\n",
              "    </tr>\n",
              "  </thead>\n",
              "  <tbody>\n",
              "    <tr>\n",
              "      <th>0</th>\n",
              "      <td>000564048b88c05396a9e68b3a89840e.wav</td>\n",
              "      <td>5</td>\n",
              "    </tr>\n",
              "    <tr>\n",
              "      <th>1</th>\n",
              "      <td>0007e065b51cb7e792b0ce301600c449.wav</td>\n",
              "      <td>1</td>\n",
              "    </tr>\n",
              "    <tr>\n",
              "      <th>2</th>\n",
              "      <td>001d3ce2cce8f3bb45e6023b9771d19d.wav</td>\n",
              "      <td>4</td>\n",
              "    </tr>\n",
              "    <tr>\n",
              "      <th>3</th>\n",
              "      <td>00260c4cfe0002f5620825ac0c03e02d.wav</td>\n",
              "      <td>1</td>\n",
              "    </tr>\n",
              "    <tr>\n",
              "      <th>4</th>\n",
              "      <td>002f3d510760bc5117acddbba95cf1e0.wav</td>\n",
              "      <td>5</td>\n",
              "    </tr>\n",
              "  </tbody>\n",
              "</table>\n",
              "</div>"
            ],
            "text/plain": [
              "                                   file  pred_class\n",
              "0  000564048b88c05396a9e68b3a89840e.wav           5\n",
              "1  0007e065b51cb7e792b0ce301600c449.wav           1\n",
              "2  001d3ce2cce8f3bb45e6023b9771d19d.wav           4\n",
              "3  00260c4cfe0002f5620825ac0c03e02d.wav           1\n",
              "4  002f3d510760bc5117acddbba95cf1e0.wav           5"
            ]
          },
          "execution_count": 58,
          "metadata": {},
          "output_type": "execute_result"
        }
      ],
      "source": [
        "score_df = pd.DataFrame({'file':filenames,'pred_class':pred_class})\n",
        "score_df.head()"
      ]
    },
    {
      "cell_type": "code",
      "execution_count": 59,
      "metadata": {
        "execution": {
          "iopub.execute_input": "2022-03-29T22:28:57.373668Z",
          "iopub.status.busy": "2022-03-29T22:28:57.373347Z",
          "iopub.status.idle": "2022-03-29T22:28:57.386700Z",
          "shell.execute_reply": "2022-03-29T22:28:57.385977Z",
          "shell.execute_reply.started": "2022-03-29T22:28:57.373631Z"
        },
        "id": "u91Yh3HPCvoD",
        "trusted": true
      },
      "outputs": [
        {
          "data": {
            "text/plain": [
              "1    1675\n",
              "4    1634\n",
              "3    1532\n",
              "0    1500\n",
              "2    1432\n",
              "5    1227\n",
              "Name: pred_class, dtype: int64"
            ]
          },
          "execution_count": 59,
          "metadata": {},
          "output_type": "execute_result"
        }
      ],
      "source": [
        "# checking class distribution in our prediction\n",
        "score_df[\"pred_class\"].value_counts()"
      ]
    },
    {
      "cell_type": "code",
      "execution_count": 60,
      "metadata": {
        "execution": {
          "iopub.execute_input": "2022-03-29T22:28:57.388605Z",
          "iopub.status.busy": "2022-03-29T22:28:57.388161Z",
          "iopub.status.idle": "2022-03-29T22:28:57.418917Z",
          "shell.execute_reply": "2022-03-29T22:28:57.418284Z",
          "shell.execute_reply.started": "2022-03-29T22:28:57.388568Z"
        },
        "id": "fHG1K7SvCvoD",
        "trusted": true
      },
      "outputs": [],
      "source": [
        "# converting dataframe to csv\n",
        "score_df.to_csv('part1_scores_res_raw.csv', header=False, index=False)"
      ]
    },
    {
      "cell_type": "markdown",
      "metadata": {
        "id": "5OTX2GUsCvoE"
      },
      "source": [
        "## B. Generating prediction for phase 2 evaluation dataset¶\n"
      ]
    },
    {
      "cell_type": "code",
      "execution_count": 61,
      "metadata": {
        "execution": {
          "iopub.execute_input": "2022-03-29T22:28:57.421091Z",
          "iopub.status.busy": "2022-03-29T22:28:57.420703Z",
          "iopub.status.idle": "2022-03-29T22:28:57.523596Z",
          "shell.execute_reply": "2022-03-29T22:28:57.522882Z",
          "shell.execute_reply.started": "2022-03-29T22:28:57.421057Z"
        },
        "id": "58Mv2kWXCvoE",
        "trusted": true
      },
      "outputs": [
        {
          "name": "stdout",
          "output_type": "stream",
          "text": [
            "Found 9000 files\n"
          ]
        }
      ],
      "source": [
        "eval_path = EVAL_PATH_2\n",
        "speaker_sample_paths = [\n",
        "        os.path.join(eval_path, filepath)\n",
        "        for filepath in os.listdir(eval_path)\n",
        "        if filepath.endswith(\".wav\")\n",
        "    ]\n",
        "X_eval = []\n",
        "X_eval += speaker_sample_paths\n",
        "\n",
        "print(\n",
        "    \"Found {} files\".format(len(X_eval))\n",
        ")"
      ]
    },
    {
      "cell_type": "code",
      "execution_count": 62,
      "metadata": {
        "execution": {
          "iopub.execute_input": "2022-03-29T22:28:57.526541Z",
          "iopub.status.busy": "2022-03-29T22:28:57.526088Z",
          "iopub.status.idle": "2022-03-29T22:28:57.558484Z",
          "shell.execute_reply": "2022-03-29T22:28:57.557824Z",
          "shell.execute_reply.started": "2022-03-29T22:28:57.526503Z"
        },
        "id": "JmIeQweqCvoE",
        "trusted": true
      },
      "outputs": [],
      "source": [
        "# making a column of names\n",
        "import os\n",
        "n = len(X_eval)\n",
        "filenames = []\n",
        "for i in range(n):\n",
        "    f_name, f_ext = os.path.splitext(X_eval[i])\n",
        "    filenames.append(os.path.basename(f_name)+f_ext)"
      ]
    },
    {
      "cell_type": "code",
      "execution_count": 63,
      "metadata": {
        "execution": {
          "iopub.execute_input": "2022-03-29T22:28:57.559803Z",
          "iopub.status.busy": "2022-03-29T22:28:57.559568Z",
          "iopub.status.idle": "2022-03-29T22:28:57.564147Z",
          "shell.execute_reply": "2022-03-29T22:28:57.563403Z",
          "shell.execute_reply.started": "2022-03-29T22:28:57.559771Z"
        },
        "id": "4mb7LDMSCvoF",
        "trusted": true
      },
      "outputs": [
        {
          "name": "stdout",
          "output_type": "stream",
          "text": [
            "9000 9000\n"
          ]
        }
      ],
      "source": [
        "y_eval = [1]*len(X_eval)\n",
        "print(len(X_eval),len(y_eval))"
      ]
    },
    {
      "cell_type": "code",
      "execution_count": 64,
      "metadata": {
        "execution": {
          "iopub.execute_input": "2022-03-29T22:28:57.565979Z",
          "iopub.status.busy": "2022-03-29T22:28:57.565593Z",
          "iopub.status.idle": "2022-03-29T22:28:57.572952Z",
          "shell.execute_reply": "2022-03-29T22:28:57.572164Z",
          "shell.execute_reply.started": "2022-03-29T22:28:57.565945Z"
        },
        "id": "IK1BH8kYCvoF",
        "trusted": true
      },
      "outputs": [],
      "source": [
        "eval_ds = DataGenerator(X_eval,y_eval,shuffle=False)"
      ]
    },
    {
      "cell_type": "code",
      "execution_count": 65,
      "metadata": {
        "execution": {
          "iopub.execute_input": "2022-03-29T22:28:57.574838Z",
          "iopub.status.busy": "2022-03-29T22:28:57.574353Z",
          "iopub.status.idle": "2022-03-29T22:32:24.250600Z",
          "shell.execute_reply": "2022-03-29T22:32:24.249806Z",
          "shell.execute_reply.started": "2022-03-29T22:28:57.574803Z"
        },
        "id": "TBgTwDpmCvoG",
        "trusted": true
      },
      "outputs": [
        {
          "name": "stdout",
          "output_type": "stream",
          "text": [
            "9000\n",
            "yhats (5, 9000, 6)\n",
            "summed (9000, 6)\n",
            "result (9000,)\n"
          ]
        }
      ],
      "source": [
        "pred_class = ensemble_predictions(MODEL_WEIGHTS_FOLDER, eval_ds)"
      ]
    },
    {
      "cell_type": "code",
      "execution_count": 66,
      "metadata": {
        "execution": {
          "iopub.execute_input": "2022-03-29T22:32:24.252199Z",
          "iopub.status.busy": "2022-03-29T22:32:24.251953Z",
          "iopub.status.idle": "2022-03-29T22:32:24.263521Z",
          "shell.execute_reply": "2022-03-29T22:32:24.262715Z",
          "shell.execute_reply.started": "2022-03-29T22:32:24.252167Z"
        },
        "id": "gRs6zqZICvoG",
        "trusted": true
      },
      "outputs": [
        {
          "data": {
            "text/html": [
              "<div>\n",
              "<style scoped>\n",
              "    .dataframe tbody tr th:only-of-type {\n",
              "        vertical-align: middle;\n",
              "    }\n",
              "\n",
              "    .dataframe tbody tr th {\n",
              "        vertical-align: top;\n",
              "    }\n",
              "\n",
              "    .dataframe thead th {\n",
              "        text-align: right;\n",
              "    }\n",
              "</style>\n",
              "<table border=\"1\" class=\"dataframe\">\n",
              "  <thead>\n",
              "    <tr style=\"text-align: right;\">\n",
              "      <th></th>\n",
              "      <th>file</th>\n",
              "      <th>pred_class</th>\n",
              "    </tr>\n",
              "  </thead>\n",
              "  <tbody>\n",
              "    <tr>\n",
              "      <th>0</th>\n",
              "      <td>000c8deb702043e5c1689f1e7a71950f.wav</td>\n",
              "      <td>0</td>\n",
              "    </tr>\n",
              "    <tr>\n",
              "      <th>1</th>\n",
              "      <td>001945bc6c04dd435ccd6780f64fac3b.wav</td>\n",
              "      <td>3</td>\n",
              "    </tr>\n",
              "    <tr>\n",
              "      <th>2</th>\n",
              "      <td>0020a5b1d8f42faa2fd7ff8abc942c4d.wav</td>\n",
              "      <td>4</td>\n",
              "    </tr>\n",
              "    <tr>\n",
              "      <th>3</th>\n",
              "      <td>00303d4b2e4bd17bd262580227ff3336.wav</td>\n",
              "      <td>1</td>\n",
              "    </tr>\n",
              "    <tr>\n",
              "      <th>4</th>\n",
              "      <td>00500d926ba4154bdb30b85f99dd5e6a.wav</td>\n",
              "      <td>4</td>\n",
              "    </tr>\n",
              "  </tbody>\n",
              "</table>\n",
              "</div>"
            ],
            "text/plain": [
              "                                   file  pred_class\n",
              "0  000c8deb702043e5c1689f1e7a71950f.wav           0\n",
              "1  001945bc6c04dd435ccd6780f64fac3b.wav           3\n",
              "2  0020a5b1d8f42faa2fd7ff8abc942c4d.wav           4\n",
              "3  00303d4b2e4bd17bd262580227ff3336.wav           1\n",
              "4  00500d926ba4154bdb30b85f99dd5e6a.wav           4"
            ]
          },
          "execution_count": 66,
          "metadata": {},
          "output_type": "execute_result"
        }
      ],
      "source": [
        "score_df = pd.DataFrame({'file':filenames,'pred_class':pred_class})\n",
        "score_df.head()"
      ]
    },
    {
      "cell_type": "code",
      "execution_count": 67,
      "metadata": {
        "execution": {
          "iopub.execute_input": "2022-03-29T22:32:24.265305Z",
          "iopub.status.busy": "2022-03-29T22:32:24.264775Z",
          "iopub.status.idle": "2022-03-29T22:32:24.276620Z",
          "shell.execute_reply": "2022-03-29T22:32:24.275972Z",
          "shell.execute_reply.started": "2022-03-29T22:32:24.265269Z"
        },
        "id": "lqgb2EKVCvoH",
        "trusted": true
      },
      "outputs": [
        {
          "data": {
            "text/plain": [
              "4    1684\n",
              "1    1547\n",
              "2    1514\n",
              "3    1509\n",
              "0    1500\n",
              "5    1246\n",
              "Name: pred_class, dtype: int64"
            ]
          },
          "execution_count": 67,
          "metadata": {},
          "output_type": "execute_result"
        }
      ],
      "source": [
        "score_df[\"pred_class\"].value_counts()"
      ]
    },
    {
      "cell_type": "code",
      "execution_count": 68,
      "metadata": {
        "execution": {
          "iopub.execute_input": "2022-03-29T22:32:24.278719Z",
          "iopub.status.busy": "2022-03-29T22:32:24.277980Z",
          "iopub.status.idle": "2022-03-29T22:32:24.308204Z",
          "shell.execute_reply": "2022-03-29T22:32:24.307564Z",
          "shell.execute_reply.started": "2022-03-29T22:32:24.278674Z"
        },
        "id": "UTktY-TPCvoH",
        "trusted": true
      },
      "outputs": [],
      "source": [
        "# converting dataframe to csv\n",
        "score_df.to_csv('part2_scores_res_raw.csv', header=False, index=False)"
      ]
    }
  ],
  "metadata": {
    "accelerator": "GPU",
    "colab": {
      "name": "waveraw-inference-pipeline.ipynb",
      "provenance": []
    },
    "kernelspec": {
      "display_name": "Python 3",
      "language": "python",
      "name": "python3"
    },
    "language_info": {
      "codemirror_mode": {
        "name": "ipython",
        "version": 3
      },
      "file_extension": ".py",
      "mimetype": "text/x-python",
      "name": "python",
      "nbconvert_exporter": "python",
      "pygments_lexer": "ipython3",
      "version": "3.7.11"
    }
  },
  "nbformat": 4,
  "nbformat_minor": 0
}
