{
 "cells": [
  {
   "cell_type": "code",
   "execution_count": 34,
   "metadata": {},
   "outputs": [],
   "source": [
    "!pip uninstall tensorflow\n",
    "!pip install keras==2.2.5\n",
    "!pip install tensorflow==1.14.0"
   ]
  },
  {
   "cell_type": "code",
   "execution_count": null,
   "metadata": {},
   "outputs": [],
   "source": [
    "from __future__ import print_function\n",
    "import tensorflow as tf\n",
    "import tensorflow.python.keras as keras\n",
    "from keras.models import *\n",
    "from keras.layers import *\n",
    "\n",
    "\n",
    "from keras.datasets import mnist\n",
    "import keras\n",
    "import random\n",
    "from sklearn.metrics import accuracy_score\n",
    "import numpy as np"
   ]
  },
  {
   "cell_type": "code",
   "execution_count": null,
   "metadata": {},
   "outputs": [
    {
     "data": {
      "text/plain": [
       "'2.8.0'"
      ]
     },
     "execution_count": 23,
     "metadata": {},
     "output_type": "execute_result"
    }
   ],
   "source": [
    "tf.__version__"
   ]
  },
  {
   "cell_type": "code",
   "execution_count": null,
   "metadata": {},
   "outputs": [
    {
     "data": {
      "text/plain": [
       "'2.2.5'"
      ]
     },
     "execution_count": 24,
     "metadata": {},
     "output_type": "execute_result"
    }
   ],
   "source": [
    "keras.__version__"
   ]
  },
  {
   "cell_type": "code",
   "execution_count": null,
   "metadata": {},
   "outputs": [],
   "source": [
    "class AddBeta(Layer):\n",
    "    def __init__(self  , **kwargs):\n",
    "        super(AddBeta, self).__init__(**kwargs)\n",
    "        \n",
    "    def build(self, input_shape):\n",
    "        if self.built:\n",
    "            return\n",
    "        \n",
    "        self.beta = self.add_weight(name='beta', \n",
    "                                      shape= input_shape[1:] ,\n",
    "                                      initializer='zeros',\n",
    "                                      trainable=True)\n",
    "       \n",
    "        self.built = True\n",
    "        super(AddBeta, self).build(input_shape)  \n",
    "        \n",
    "    def call(self, x, training=None):\n",
    "        return tf.add(x, self.beta)\n",
    "\n",
    "\n",
    "class G_Guass(Layer):\n",
    "    def __init__(self , **kwargs):\n",
    "        super(G_Guass, self).__init__(**kwargs)\n",
    "        \n",
    "    def wi(self, init, name):\n",
    "        if init == 1:\n",
    "            return self.add_weight(name='guess_'+name, \n",
    "                                      shape=(self.size,),\n",
    "                                      initializer='ones',\n",
    "                                      trainable=True)\n",
    "        elif init == 0:\n",
    "            return self.add_weight(name='guess_'+name, \n",
    "                                      shape=(self.size,),\n",
    "                                      initializer='zeros',\n",
    "                                      trainable=True)\n",
    "        else:\n",
    "            raise ValueError(\"Invalid argument '%d' provided for init in G_Gauss layer\" % init)\n",
    "\n",
    "\n",
    "    def build(self, input_shape):\n",
    "        # Create a trainable weight variable for this layer.\n",
    "        self.size = input_shape[0][-1]\n",
    "\n",
    "        init_values = [0., 1., 0., 0., 0., 0., 1., 0., 0., 0.]\n",
    "        self.a = [self.wi(v, 'a' + str(i + 1)) for i, v in enumerate(init_values)]\n",
    "        super(G_Guass , self).build(input_shape)  # Be sure to call this at the end\n",
    "\n",
    "    def call(self, x):\n",
    "        z_c, u = x \n",
    "\n",
    "        def compute(y):\n",
    "            return y[0] * tf.sigmoid(y[1] * u + y[2]) + y[3] * u + y[4]\n",
    "\n",
    "        mu = compute(self.a[:5])\n",
    "        v  = compute(self.a[5:])\n",
    "\n",
    "        z_est = (z_c - mu) * v + mu\n",
    "        return z_est\n",
    "    \n",
    "    def compute_output_shape(self, input_shape):\n",
    "        return (input_shape[0][0], self.size)"
   ]
  },
  {
   "cell_type": "code",
   "execution_count": null,
   "metadata": {},
   "outputs": [],
   "source": [
    "def batch_normalization(batch, mean=None, var=None):\n",
    "    if mean is None or var is None:\n",
    "        mean, var = tf.nn.moments(batch, axes=[0])\n",
    "    return (batch - mean) / tf.sqrt(var + tf.constant(1e-10))\n",
    "\n",
    "\n",
    "def add_noise( inputs , noise_std ):\n",
    "    return Lambda( lambda x: x + tf.random.normal(tf.shape(x)) * noise_std  )( inputs )"
   ]
  },
  {
   "cell_type": "code",
   "execution_count": null,
   "metadata": {},
   "outputs": [],
   "source": [
    "def get_ladder_network_fc(layer_sizes=[784, 1000, 500, 250, 250, 250, 10], \n",
    "     noise_std=0.3,\n",
    "     denoising_cost=[1000.0, 10.0, 0.10, 0.10, 0.10, 0.10, 0.10]):\n",
    "\n",
    "    L = len(layer_sizes) - 1  # number of layers\n",
    "\n",
    "    inputs_l = Input((layer_sizes[0],))  \n",
    "    inputs_u = Input((layer_sizes[0],))  \n",
    "\n",
    "    fc_enc = [Dense(s, use_bias=False, kernel_initializer='glorot_normal') for s in layer_sizes[1:] ]\n",
    "    fc_dec = [Dense(s, use_bias=False, kernel_initializer='glorot_normal') for s in layer_sizes[:-1]]\n",
    "    betas  = [AddBeta() for l in range(L)]\n",
    "\n",
    "    def encoder(inputs, noise_std  ):\n",
    "        h = add_noise(inputs, noise_std)\n",
    "        all_z    = [None for _ in range( len(layer_sizes))]\n",
    "        all_z[0] = h\n",
    "        \n",
    "        for l in range(1, L+1):\n",
    "            z_pre = fc_enc[l-1](h)\n",
    "            z =     Lambda(batch_normalization)(z_pre) \n",
    "            z =     add_noise (z, noise_std)\n",
    "            \n",
    "            if l == L:\n",
    "                h = Activation('softmax')(betas[l-1](z))\n",
    "            else:\n",
    "                h = Activation('relu')(betas[l-1](z))\n",
    "                \n",
    "            all_z[l] = z\n",
    "\n",
    "        return h, all_z\n",
    "\n",
    "    y_c_l, _ = encoder(inputs_l, noise_std)\n",
    "    y_l, _   = encoder(inputs_l, 0.0)  \n",
    "\n",
    "    y_c_u, corr_z  = encoder(inputs_u , noise_std)\n",
    "    y_u,  clean_z  = encoder(inputs_u , 0.0)  \n",
    "\n",
    "    # Decoder\n",
    "    d_cost = []  # to store the denoising cost of all layers\n",
    "    for l in range(L, -1, -1):\n",
    "        z, z_c = clean_z[l], corr_z[l]\n",
    "        if l == L:\n",
    "            u = y_c_u\n",
    "        else:\n",
    "            u = fc_dec[l]( z_est ) \n",
    "        u = Lambda(batch_normalization)(u)\n",
    "        z_est  = G_Guass()([z_c, u])  \n",
    "        d_cost.append((tf.reduce_mean(tf.reduce_sum(tf.square(z_est - z), 1)) / layer_sizes[l]) * denoising_cost[l])\n",
    "\n",
    "    u_cost = tf.add_n(d_cost)\n",
    "\n",
    "    y_c_l = Lambda(lambda x: x[0])([y_c_l, y_l, y_c_u, y_u, u, z_est, z])\n",
    "\n",
    "    tr_m = Model([inputs_l, inputs_u], y_c_l)\n",
    "    tr_m.add_loss(u_cost)\n",
    "    tr_m.compile(keras.optimizers.Adam(lr=0.02 ), 'categorical_crossentropy', metrics=['accuracy'])\n",
    "\n",
    "    tr_m.metrics_names.append(\"den_loss\")\n",
    "    tr_m.metrics_tensors.append(u_cost)\n",
    "\n",
    "    te_m = Model(inputs_l, y_l)\n",
    "    tr_m.test_model = te_m\n",
    "\n",
    "    return tr_m"
   ]
  },
  {
   "cell_type": "code",
   "execution_count": null,
   "metadata": {},
   "outputs": [],
   "source": [
    "# get the dataset\n",
    "inp_size = 28*28 # size of mnist dataset \n",
    "n_classes = 10\n",
    "(x_train, y_train), (x_test, y_test) = mnist.load_data()"
   ]
  },
  {
   "cell_type": "code",
   "execution_count": null,
   "metadata": {},
   "outputs": [],
   "source": [
    "x_train = x_train.reshape(60000, inp_size).astype('float32')/255\n",
    "x_test  = x_test.reshape(10000,  inp_size).astype('float32')/255\n",
    "\n",
    "y_train = keras.utils.to_categorical(y_train, n_classes)\n",
    "y_test  = keras.utils.to_categorical(y_test,  n_classes)"
   ]
  },
  {
   "cell_type": "code",
   "execution_count": null,
   "metadata": {},
   "outputs": [],
   "source": [
    "# only select 100 training samples \n",
    "idxs_annot = range(x_train.shape[0])\n",
    "random.seed(0)\n",
    "idxs_annot = np.random.choice(x_train.shape[0], 100)"
   ]
  },
  {
   "cell_type": "code",
   "execution_count": null,
   "metadata": {},
   "outputs": [],
   "source": [
    "x_train_unlabeled = x_train\n",
    "x_train_labeled   = x_train[idxs_annot]\n",
    "y_train_labeled   = y_train[idxs_annot]"
   ]
  },
  {
   "cell_type": "code",
   "execution_count": null,
   "metadata": {},
   "outputs": [],
   "source": [
    "n_rep = x_train_unlabeled.shape[0] // x_train_labeled.shape[0]\n",
    "x_train_labeled_rep = np.concatenate([x_train_labeled]*n_rep)\n",
    "y_train_labeled_rep = np.concatenate([y_train_labeled]*n_rep)"
   ]
  },
  {
   "cell_type": "code",
   "execution_count": null,
   "metadata": {},
   "outputs": [
    {
     "ename": "RuntimeError",
     "evalue": "It looks like you are trying to use a version of multi-backend Keras that does not support TensorFlow 2.0. We recommend using `tf.keras`, or alternatively, downgrading to TensorFlow 1.14.",
     "output_type": "error",
     "traceback": [
      "\u001b[1;31m---------------------------------------------------------------------------\u001b[0m",
      "\u001b[1;31mAttributeError\u001b[0m                            Traceback (most recent call last)",
      "File \u001b[1;32m~\\anaconda3\\envs\\RoadCrack\\lib\\site-packages\\keras\\backend\\tensorflow_backend.py:66\u001b[0m, in \u001b[0;36m_get_default_graph\u001b[1;34m()\u001b[0m\n\u001b[0;32m     <a href='file:///c%3A/Users/manami/anaconda3/envs/RoadCrack/lib/site-packages/keras/backend/tensorflow_backend.py?line=64'>65</a>\u001b[0m \u001b[39mtry\u001b[39;00m:\n\u001b[1;32m---> <a href='file:///c%3A/Users/manami/anaconda3/envs/RoadCrack/lib/site-packages/keras/backend/tensorflow_backend.py?line=65'>66</a>\u001b[0m     \u001b[39mreturn\u001b[39;00m tf\u001b[39m.\u001b[39;49mget_default_graph()\n\u001b[0;32m     <a href='file:///c%3A/Users/manami/anaconda3/envs/RoadCrack/lib/site-packages/keras/backend/tensorflow_backend.py?line=66'>67</a>\u001b[0m \u001b[39mexcept\u001b[39;00m \u001b[39mAttributeError\u001b[39;00m:\n",
      "\u001b[1;31mAttributeError\u001b[0m: module 'tensorflow' has no attribute 'get_default_graph'",
      "\nDuring handling of the above exception, another exception occurred:\n",
      "\u001b[1;31mRuntimeError\u001b[0m                              Traceback (most recent call last)",
      "\u001b[1;32md:\\sp cup 2022\\Students_Procastinating_ID27592_code_report\\ladder_manami_first_try.ipynb Cell 13'\u001b[0m in \u001b[0;36m<cell line: 2>\u001b[1;34m()\u001b[0m\n\u001b[0;32m      <a href='vscode-notebook-cell:/d%3A/sp%20cup%202022/Students_Procastinating_ID27592_code_report/ladder_manami_first_try.ipynb#ch0000012?line=0'>1</a>\u001b[0m \u001b[39m# initialize the model \u001b[39;00m\n\u001b[1;32m----> <a href='vscode-notebook-cell:/d%3A/sp%20cup%202022/Students_Procastinating_ID27592_code_report/ladder_manami_first_try.ipynb#ch0000012?line=1'>2</a>\u001b[0m model \u001b[39m=\u001b[39m get_ladder_network_fc(layer_sizes\u001b[39m=\u001b[39;49m[inp_size, \u001b[39m1000\u001b[39;49m, \u001b[39m500\u001b[39;49m, \u001b[39m250\u001b[39;49m, \u001b[39m250\u001b[39;49m, \u001b[39m250\u001b[39;49m, n_classes])\n",
      "\u001b[1;32md:\\sp cup 2022\\Students_Procastinating_ID27592_code_report\\ladder_manami_first_try.ipynb Cell 7'\u001b[0m in \u001b[0;36mget_ladder_network_fc\u001b[1;34m(layer_sizes, noise_std, denoising_cost)\u001b[0m\n\u001b[0;32m      <a href='vscode-notebook-cell:/d%3A/sp%20cup%202022/Students_Procastinating_ID27592_code_report/ladder_manami_first_try.ipynb#ch0000006?line=0'>1</a>\u001b[0m \u001b[39mdef\u001b[39;00m \u001b[39mget_ladder_network_fc\u001b[39m(layer_sizes\u001b[39m=\u001b[39m[\u001b[39m784\u001b[39m, \u001b[39m1000\u001b[39m, \u001b[39m500\u001b[39m, \u001b[39m250\u001b[39m, \u001b[39m250\u001b[39m, \u001b[39m250\u001b[39m, \u001b[39m10\u001b[39m], \n\u001b[0;32m      <a href='vscode-notebook-cell:/d%3A/sp%20cup%202022/Students_Procastinating_ID27592_code_report/ladder_manami_first_try.ipynb#ch0000006?line=1'>2</a>\u001b[0m      noise_std\u001b[39m=\u001b[39m\u001b[39m0.3\u001b[39m,\n\u001b[0;32m      <a href='vscode-notebook-cell:/d%3A/sp%20cup%202022/Students_Procastinating_ID27592_code_report/ladder_manami_first_try.ipynb#ch0000006?line=2'>3</a>\u001b[0m      denoising_cost\u001b[39m=\u001b[39m[\u001b[39m1000.0\u001b[39m, \u001b[39m10.0\u001b[39m, \u001b[39m0.10\u001b[39m, \u001b[39m0.10\u001b[39m, \u001b[39m0.10\u001b[39m, \u001b[39m0.10\u001b[39m, \u001b[39m0.10\u001b[39m]):\n\u001b[0;32m      <a href='vscode-notebook-cell:/d%3A/sp%20cup%202022/Students_Procastinating_ID27592_code_report/ladder_manami_first_try.ipynb#ch0000006?line=4'>5</a>\u001b[0m     L \u001b[39m=\u001b[39m \u001b[39mlen\u001b[39m(layer_sizes) \u001b[39m-\u001b[39m \u001b[39m1\u001b[39m  \u001b[39m# number of layers\u001b[39;00m\n\u001b[1;32m----> <a href='vscode-notebook-cell:/d%3A/sp%20cup%202022/Students_Procastinating_ID27592_code_report/ladder_manami_first_try.ipynb#ch0000006?line=6'>7</a>\u001b[0m     inputs_l \u001b[39m=\u001b[39m Input((layer_sizes[\u001b[39m0\u001b[39;49m],))  \n\u001b[0;32m      <a href='vscode-notebook-cell:/d%3A/sp%20cup%202022/Students_Procastinating_ID27592_code_report/ladder_manami_first_try.ipynb#ch0000006?line=7'>8</a>\u001b[0m     inputs_u \u001b[39m=\u001b[39m Input((layer_sizes[\u001b[39m0\u001b[39m],))  \n\u001b[0;32m     <a href='vscode-notebook-cell:/d%3A/sp%20cup%202022/Students_Procastinating_ID27592_code_report/ladder_manami_first_try.ipynb#ch0000006?line=9'>10</a>\u001b[0m     fc_enc \u001b[39m=\u001b[39m [Dense(s, use_bias\u001b[39m=\u001b[39m\u001b[39mFalse\u001b[39;00m, kernel_initializer\u001b[39m=\u001b[39m\u001b[39m'\u001b[39m\u001b[39mglorot_normal\u001b[39m\u001b[39m'\u001b[39m) \u001b[39mfor\u001b[39;00m s \u001b[39min\u001b[39;00m layer_sizes[\u001b[39m1\u001b[39m:] ]\n",
      "File \u001b[1;32m~\\anaconda3\\envs\\RoadCrack\\lib\\site-packages\\keras\\engine\\input_layer.py:175\u001b[0m, in \u001b[0;36mInput\u001b[1;34m(shape, batch_shape, name, dtype, sparse, tensor)\u001b[0m\n\u001b[0;32m    <a href='file:///c%3A/Users/manami/anaconda3/envs/RoadCrack/lib/site-packages/keras/engine/input_layer.py?line=172'>173</a>\u001b[0m \u001b[39mif\u001b[39;00m \u001b[39mnot\u001b[39;00m dtype:\n\u001b[0;32m    <a href='file:///c%3A/Users/manami/anaconda3/envs/RoadCrack/lib/site-packages/keras/engine/input_layer.py?line=173'>174</a>\u001b[0m     dtype \u001b[39m=\u001b[39m K\u001b[39m.\u001b[39mfloatx()\n\u001b[1;32m--> <a href='file:///c%3A/Users/manami/anaconda3/envs/RoadCrack/lib/site-packages/keras/engine/input_layer.py?line=174'>175</a>\u001b[0m input_layer \u001b[39m=\u001b[39m InputLayer(batch_input_shape\u001b[39m=\u001b[39;49mbatch_shape,\n\u001b[0;32m    <a href='file:///c%3A/Users/manami/anaconda3/envs/RoadCrack/lib/site-packages/keras/engine/input_layer.py?line=175'>176</a>\u001b[0m                          name\u001b[39m=\u001b[39;49mname, dtype\u001b[39m=\u001b[39;49mdtype,\n\u001b[0;32m    <a href='file:///c%3A/Users/manami/anaconda3/envs/RoadCrack/lib/site-packages/keras/engine/input_layer.py?line=176'>177</a>\u001b[0m                          sparse\u001b[39m=\u001b[39;49msparse,\n\u001b[0;32m    <a href='file:///c%3A/Users/manami/anaconda3/envs/RoadCrack/lib/site-packages/keras/engine/input_layer.py?line=177'>178</a>\u001b[0m                          input_tensor\u001b[39m=\u001b[39;49mtensor)\n\u001b[0;32m    <a href='file:///c%3A/Users/manami/anaconda3/envs/RoadCrack/lib/site-packages/keras/engine/input_layer.py?line=178'>179</a>\u001b[0m \u001b[39m# Return tensor including _keras_shape and _keras_history.\u001b[39;00m\n\u001b[0;32m    <a href='file:///c%3A/Users/manami/anaconda3/envs/RoadCrack/lib/site-packages/keras/engine/input_layer.py?line=179'>180</a>\u001b[0m \u001b[39m# Note that in this case train_output and test_output are the same pointer.\u001b[39;00m\n\u001b[0;32m    <a href='file:///c%3A/Users/manami/anaconda3/envs/RoadCrack/lib/site-packages/keras/engine/input_layer.py?line=180'>181</a>\u001b[0m outputs \u001b[39m=\u001b[39m input_layer\u001b[39m.\u001b[39m_inbound_nodes[\u001b[39m0\u001b[39m]\u001b[39m.\u001b[39moutput_tensors\n",
      "File \u001b[1;32m~\\anaconda3\\envs\\RoadCrack\\lib\\site-packages\\keras\\legacy\\interfaces.py:91\u001b[0m, in \u001b[0;36mgenerate_legacy_interface.<locals>.legacy_support.<locals>.wrapper\u001b[1;34m(*args, **kwargs)\u001b[0m\n\u001b[0;32m     <a href='file:///c%3A/Users/manami/anaconda3/envs/RoadCrack/lib/site-packages/keras/legacy/interfaces.py?line=87'>88</a>\u001b[0m     signature \u001b[39m+\u001b[39m\u001b[39m=\u001b[39m \u001b[39m'\u001b[39m\u001b[39m)`\u001b[39m\u001b[39m'\u001b[39m\n\u001b[0;32m     <a href='file:///c%3A/Users/manami/anaconda3/envs/RoadCrack/lib/site-packages/keras/legacy/interfaces.py?line=88'>89</a>\u001b[0m     warnings\u001b[39m.\u001b[39mwarn(\u001b[39m'\u001b[39m\u001b[39mUpdate your `\u001b[39m\u001b[39m'\u001b[39m \u001b[39m+\u001b[39m object_name \u001b[39m+\u001b[39m \u001b[39m'\u001b[39m\u001b[39m` call to the \u001b[39m\u001b[39m'\u001b[39m \u001b[39m+\u001b[39m\n\u001b[0;32m     <a href='file:///c%3A/Users/manami/anaconda3/envs/RoadCrack/lib/site-packages/keras/legacy/interfaces.py?line=89'>90</a>\u001b[0m                   \u001b[39m'\u001b[39m\u001b[39mKeras 2 API: \u001b[39m\u001b[39m'\u001b[39m \u001b[39m+\u001b[39m signature, stacklevel\u001b[39m=\u001b[39m\u001b[39m2\u001b[39m)\n\u001b[1;32m---> <a href='file:///c%3A/Users/manami/anaconda3/envs/RoadCrack/lib/site-packages/keras/legacy/interfaces.py?line=90'>91</a>\u001b[0m \u001b[39mreturn\u001b[39;00m func(\u001b[39m*\u001b[39;49margs, \u001b[39m*\u001b[39;49m\u001b[39m*\u001b[39;49mkwargs)\n",
      "File \u001b[1;32m~\\anaconda3\\envs\\RoadCrack\\lib\\site-packages\\keras\\engine\\input_layer.py:39\u001b[0m, in \u001b[0;36mInputLayer.__init__\u001b[1;34m(self, input_shape, batch_size, batch_input_shape, dtype, input_tensor, sparse, name)\u001b[0m\n\u001b[0;32m     <a href='file:///c%3A/Users/manami/anaconda3/envs/RoadCrack/lib/site-packages/keras/engine/input_layer.py?line=36'>37</a>\u001b[0m \u001b[39mif\u001b[39;00m \u001b[39mnot\u001b[39;00m name:\n\u001b[0;32m     <a href='file:///c%3A/Users/manami/anaconda3/envs/RoadCrack/lib/site-packages/keras/engine/input_layer.py?line=37'>38</a>\u001b[0m     prefix \u001b[39m=\u001b[39m \u001b[39m'\u001b[39m\u001b[39minput\u001b[39m\u001b[39m'\u001b[39m\n\u001b[1;32m---> <a href='file:///c%3A/Users/manami/anaconda3/envs/RoadCrack/lib/site-packages/keras/engine/input_layer.py?line=38'>39</a>\u001b[0m     name \u001b[39m=\u001b[39m prefix \u001b[39m+\u001b[39m \u001b[39m'\u001b[39m\u001b[39m_\u001b[39m\u001b[39m'\u001b[39m \u001b[39m+\u001b[39m \u001b[39mstr\u001b[39m(K\u001b[39m.\u001b[39;49mget_uid(prefix))\n\u001b[0;32m     <a href='file:///c%3A/Users/manami/anaconda3/envs/RoadCrack/lib/site-packages/keras/engine/input_layer.py?line=39'>40</a>\u001b[0m \u001b[39msuper\u001b[39m(InputLayer, \u001b[39mself\u001b[39m)\u001b[39m.\u001b[39m\u001b[39m__init__\u001b[39m(dtype\u001b[39m=\u001b[39mdtype, name\u001b[39m=\u001b[39mname)\n\u001b[0;32m     <a href='file:///c%3A/Users/manami/anaconda3/envs/RoadCrack/lib/site-packages/keras/engine/input_layer.py?line=41'>42</a>\u001b[0m \u001b[39mself\u001b[39m\u001b[39m.\u001b[39mtrainable \u001b[39m=\u001b[39m \u001b[39mFalse\u001b[39;00m\n",
      "File \u001b[1;32m~\\anaconda3\\envs\\RoadCrack\\lib\\site-packages\\keras\\backend\\tensorflow_backend.py:86\u001b[0m, in \u001b[0;36mget_uid\u001b[1;34m(prefix)\u001b[0m\n\u001b[0;32m     <a href='file:///c%3A/Users/manami/anaconda3/envs/RoadCrack/lib/site-packages/keras/backend/tensorflow_backend.py?line=76'>77</a>\u001b[0m \u001b[39m\"\"\"Get the uid for the default graph.\u001b[39;00m\n\u001b[0;32m     <a href='file:///c%3A/Users/manami/anaconda3/envs/RoadCrack/lib/site-packages/keras/backend/tensorflow_backend.py?line=77'>78</a>\u001b[0m \n\u001b[0;32m     <a href='file:///c%3A/Users/manami/anaconda3/envs/RoadCrack/lib/site-packages/keras/backend/tensorflow_backend.py?line=78'>79</a>\u001b[0m \u001b[39m# Arguments\u001b[39;00m\n\u001b[1;32m   (...)\u001b[0m\n\u001b[0;32m     <a href='file:///c%3A/Users/manami/anaconda3/envs/RoadCrack/lib/site-packages/keras/backend/tensorflow_backend.py?line=82'>83</a>\u001b[0m \u001b[39m    A unique identifier for the graph.\u001b[39;00m\n\u001b[0;32m     <a href='file:///c%3A/Users/manami/anaconda3/envs/RoadCrack/lib/site-packages/keras/backend/tensorflow_backend.py?line=83'>84</a>\u001b[0m \u001b[39m\"\"\"\u001b[39;00m\n\u001b[0;32m     <a href='file:///c%3A/Users/manami/anaconda3/envs/RoadCrack/lib/site-packages/keras/backend/tensorflow_backend.py?line=84'>85</a>\u001b[0m \u001b[39mglobal\u001b[39;00m _GRAPH_UID_DICTS\n\u001b[1;32m---> <a href='file:///c%3A/Users/manami/anaconda3/envs/RoadCrack/lib/site-packages/keras/backend/tensorflow_backend.py?line=85'>86</a>\u001b[0m graph \u001b[39m=\u001b[39m _get_default_graph()\n\u001b[0;32m     <a href='file:///c%3A/Users/manami/anaconda3/envs/RoadCrack/lib/site-packages/keras/backend/tensorflow_backend.py?line=86'>87</a>\u001b[0m \u001b[39mif\u001b[39;00m graph \u001b[39mnot\u001b[39;00m \u001b[39min\u001b[39;00m _GRAPH_UID_DICTS:\n\u001b[0;32m     <a href='file:///c%3A/Users/manami/anaconda3/envs/RoadCrack/lib/site-packages/keras/backend/tensorflow_backend.py?line=87'>88</a>\u001b[0m     _GRAPH_UID_DICTS[graph] \u001b[39m=\u001b[39m defaultdict(\u001b[39mint\u001b[39m)\n",
      "File \u001b[1;32m~\\anaconda3\\envs\\RoadCrack\\lib\\site-packages\\keras\\backend\\tensorflow_backend.py:68\u001b[0m, in \u001b[0;36m_get_default_graph\u001b[1;34m()\u001b[0m\n\u001b[0;32m     <a href='file:///c%3A/Users/manami/anaconda3/envs/RoadCrack/lib/site-packages/keras/backend/tensorflow_backend.py?line=65'>66</a>\u001b[0m     \u001b[39mreturn\u001b[39;00m tf\u001b[39m.\u001b[39mget_default_graph()\n\u001b[0;32m     <a href='file:///c%3A/Users/manami/anaconda3/envs/RoadCrack/lib/site-packages/keras/backend/tensorflow_backend.py?line=66'>67</a>\u001b[0m \u001b[39mexcept\u001b[39;00m \u001b[39mAttributeError\u001b[39;00m:\n\u001b[1;32m---> <a href='file:///c%3A/Users/manami/anaconda3/envs/RoadCrack/lib/site-packages/keras/backend/tensorflow_backend.py?line=67'>68</a>\u001b[0m     \u001b[39mraise\u001b[39;00m \u001b[39mRuntimeError\u001b[39;00m(\n\u001b[0;32m     <a href='file:///c%3A/Users/manami/anaconda3/envs/RoadCrack/lib/site-packages/keras/backend/tensorflow_backend.py?line=68'>69</a>\u001b[0m         \u001b[39m'\u001b[39m\u001b[39mIt looks like you are trying to use \u001b[39m\u001b[39m'\u001b[39m\n\u001b[0;32m     <a href='file:///c%3A/Users/manami/anaconda3/envs/RoadCrack/lib/site-packages/keras/backend/tensorflow_backend.py?line=69'>70</a>\u001b[0m         \u001b[39m'\u001b[39m\u001b[39ma version of multi-backend Keras that \u001b[39m\u001b[39m'\u001b[39m\n\u001b[0;32m     <a href='file:///c%3A/Users/manami/anaconda3/envs/RoadCrack/lib/site-packages/keras/backend/tensorflow_backend.py?line=70'>71</a>\u001b[0m         \u001b[39m'\u001b[39m\u001b[39mdoes not support TensorFlow 2.0. We recommend \u001b[39m\u001b[39m'\u001b[39m\n\u001b[0;32m     <a href='file:///c%3A/Users/manami/anaconda3/envs/RoadCrack/lib/site-packages/keras/backend/tensorflow_backend.py?line=71'>72</a>\u001b[0m         \u001b[39m'\u001b[39m\u001b[39musing `tf.keras`, or alternatively, \u001b[39m\u001b[39m'\u001b[39m\n\u001b[0;32m     <a href='file:///c%3A/Users/manami/anaconda3/envs/RoadCrack/lib/site-packages/keras/backend/tensorflow_backend.py?line=72'>73</a>\u001b[0m         \u001b[39m'\u001b[39m\u001b[39mdowngrading to TensorFlow 1.14.\u001b[39m\u001b[39m'\u001b[39m)\n",
      "\u001b[1;31mRuntimeError\u001b[0m: It looks like you are trying to use a version of multi-backend Keras that does not support TensorFlow 2.0. We recommend using `tf.keras`, or alternatively, downgrading to TensorFlow 1.14."
     ]
    }
   ],
   "source": [
    "# initialize the model \n",
    "model = get_ladder_network_fc(layer_sizes=[inp_size, 1000, 500, 250, 250, 250, n_classes])"
   ]
  }
 ],
 "metadata": {
  "interpreter": {
   "hash": "5654276b738d524a54a6e188b19c277579e6a5e1ce25d21276952bca40002ca9"
  },
  "kernelspec": {
   "display_name": "Python 3.8.13 ('RoadCrack')",
   "language": "python",
   "name": "python3"
  },
  "language_info": {
   "codemirror_mode": {
    "name": "ipython",
    "version": 3
   },
   "file_extension": ".py",
   "mimetype": "text/x-python",
   "name": "python",
   "nbconvert_exporter": "python",
   "pygments_lexer": "ipython3",
   "version": "3.8.13"
  },
  "orig_nbformat": 4
 },
 "nbformat": 4,
 "nbformat_minor": 2
}
