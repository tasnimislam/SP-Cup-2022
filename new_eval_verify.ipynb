{
 "cells": [
  {
   "cell_type": "code",
   "execution_count": 1,
   "metadata": {},
   "outputs": [],
   "source": [
    "import pandas as pd\n",
    "from tqdm import tqdm"
   ]
  },
  {
   "cell_type": "code",
   "execution_count": 6,
   "metadata": {},
   "outputs": [
    {
     "data": {
      "text/plain": [
       "5    6508\n",
       "1    3310\n",
       "3    3001\n",
       "4    2971\n",
       "2    2645\n",
       "0     764\n",
       "Name: 1, dtype: int64"
      ]
     },
     "execution_count": 6,
     "metadata": {},
     "output_type": "execute_result"
    }
   ],
   "source": [
    "# val - 98.16%\n",
    "final_pred_yam = pd.read_csv('semi_5_may_yam.csv', header = None)\n",
    "final_pred_yam = final_pred_yam.sort_values(by = [0])\n",
    "final_pred_yam = final_pred_yam.drop(index = 0)\n",
    "final_pred_yam[1].value_counts()\n",
    "# final_pred_yam.head()"
   ]
  },
  {
   "cell_type": "code",
   "execution_count": 3,
   "metadata": {},
   "outputs": [
    {
     "data": {
      "text/plain": [
       "'000564048b88c05396a9e68b3a89840e.wav'"
      ]
     },
     "execution_count": 3,
     "metadata": {},
     "output_type": "execute_result"
    }
   ],
   "source": [
    "list(final_pred_yam[0])[0]"
   ]
  },
  {
   "cell_type": "code",
   "execution_count": 4,
   "metadata": {},
   "outputs": [
    {
     "data": {
      "text/html": [
       "<div>\n",
       "<style scoped>\n",
       "    .dataframe tbody tr th:only-of-type {\n",
       "        vertical-align: middle;\n",
       "    }\n",
       "\n",
       "    .dataframe tbody tr th {\n",
       "        vertical-align: top;\n",
       "    }\n",
       "\n",
       "    .dataframe thead th {\n",
       "        text-align: right;\n",
       "    }\n",
       "</style>\n",
       "<table border=\"1\" class=\"dataframe\">\n",
       "  <thead>\n",
       "    <tr style=\"text-align: right;\">\n",
       "      <th></th>\n",
       "      <th>0</th>\n",
       "      <th>1</th>\n",
       "    </tr>\n",
       "  </thead>\n",
       "  <tbody>\n",
       "    <tr>\n",
       "      <th>4787</th>\n",
       "      <td>0005de78d0377fc2add0df14971e372e.wav</td>\n",
       "      <td>5</td>\n",
       "    </tr>\n",
       "    <tr>\n",
       "      <th>3667</th>\n",
       "      <td>0015b548d6ead8a7d5d3cb65131c06a0.wav</td>\n",
       "      <td>5</td>\n",
       "    </tr>\n",
       "    <tr>\n",
       "      <th>8882</th>\n",
       "      <td>0024052098e13a6300c781f74649b070.wav</td>\n",
       "      <td>4</td>\n",
       "    </tr>\n",
       "    <tr>\n",
       "      <th>49</th>\n",
       "      <td>002cd16558c67c5719711a577ae0f784.wav</td>\n",
       "      <td>5</td>\n",
       "    </tr>\n",
       "    <tr>\n",
       "      <th>5190</th>\n",
       "      <td>00363890ad77895e05c5487a44b2af52.wav</td>\n",
       "      <td>5</td>\n",
       "    </tr>\n",
       "  </tbody>\n",
       "</table>\n",
       "</div>"
      ],
      "text/plain": [
       "                                         0  1\n",
       "4787  0005de78d0377fc2add0df14971e372e.wav  5\n",
       "3667  0015b548d6ead8a7d5d3cb65131c06a0.wav  5\n",
       "8882  0024052098e13a6300c781f74649b070.wav  4\n",
       "49    002cd16558c67c5719711a577ae0f784.wav  5\n",
       "5190  00363890ad77895e05c5487a44b2af52.wav  5"
      ]
     },
     "execution_count": 4,
     "metadata": {},
     "output_type": "execute_result"
    }
   ],
   "source": [
    "# 98\n",
    "final_pred_res = pd.read_csv('finals_pred_26_april_csv/best_resnet_cv5fold_prev_best_final_eval.csv', \n",
    "            header = None)\n",
    "final_pred_res[0] = final_pred_res[0].apply(lambda x: x.split(\"/\")[-1])\n",
    "final_pred_res = final_pred_res.sort_values(by = [0])\n",
    "final_pred_res.head()\n"
   ]
  },
  {
   "cell_type": "code",
   "execution_count": 5,
   "metadata": {},
   "outputs": [
    {
     "name": "stderr",
     "output_type": "stream",
     "text": [
      "  0%|          | 0/10000 [00:00<?, ?it/s]\n"
     ]
    },
    {
     "ename": "KeyError",
     "evalue": "0",
     "output_type": "error",
     "traceback": [
      "\u001b[1;31m---------------------------------------------------------------------------\u001b[0m",
      "\u001b[1;31mKeyError\u001b[0m                                  Traceback (most recent call last)",
      "File \u001b[1;32m~\\anaconda3\\envs\\RoadCrack\\lib\\site-packages\\pandas\\core\\indexes\\base.py:3621\u001b[0m, in \u001b[0;36mIndex.get_loc\u001b[1;34m(self, key, method, tolerance)\u001b[0m\n\u001b[0;32m   <a href='file:///c%3A/Users/manami/anaconda3/envs/RoadCrack/lib/site-packages/pandas/core/indexes/base.py?line=3619'>3620</a>\u001b[0m \u001b[39mtry\u001b[39;00m:\n\u001b[1;32m-> <a href='file:///c%3A/Users/manami/anaconda3/envs/RoadCrack/lib/site-packages/pandas/core/indexes/base.py?line=3620'>3621</a>\u001b[0m     \u001b[39mreturn\u001b[39;00m \u001b[39mself\u001b[39;49m\u001b[39m.\u001b[39;49m_engine\u001b[39m.\u001b[39;49mget_loc(casted_key)\n\u001b[0;32m   <a href='file:///c%3A/Users/manami/anaconda3/envs/RoadCrack/lib/site-packages/pandas/core/indexes/base.py?line=3621'>3622</a>\u001b[0m \u001b[39mexcept\u001b[39;00m \u001b[39mKeyError\u001b[39;00m \u001b[39mas\u001b[39;00m err:\n",
      "File \u001b[1;32m~\\anaconda3\\envs\\RoadCrack\\lib\\site-packages\\pandas\\_libs\\index.pyx:136\u001b[0m, in \u001b[0;36mpandas._libs.index.IndexEngine.get_loc\u001b[1;34m()\u001b[0m\n",
      "File \u001b[1;32m~\\anaconda3\\envs\\RoadCrack\\lib\\site-packages\\pandas\\_libs\\index.pyx:163\u001b[0m, in \u001b[0;36mpandas._libs.index.IndexEngine.get_loc\u001b[1;34m()\u001b[0m\n",
      "File \u001b[1;32mpandas\\_libs\\hashtable_class_helper.pxi:2131\u001b[0m, in \u001b[0;36mpandas._libs.hashtable.Int64HashTable.get_item\u001b[1;34m()\u001b[0m\n",
      "File \u001b[1;32mpandas\\_libs\\hashtable_class_helper.pxi:2140\u001b[0m, in \u001b[0;36mpandas._libs.hashtable.Int64HashTable.get_item\u001b[1;34m()\u001b[0m\n",
      "\u001b[1;31mKeyError\u001b[0m: 0",
      "\nThe above exception was the direct cause of the following exception:\n",
      "\u001b[1;31mKeyError\u001b[0m                                  Traceback (most recent call last)",
      "\u001b[1;32md:\\sp cup 2022\\Students_Procastinating_ID27592_code_report\\new_eval_verify.ipynb Cell 5'\u001b[0m in \u001b[0;36m<cell line: 6>\u001b[1;34m()\u001b[0m\n\u001b[0;32m     <a href='vscode-notebook-cell:/d%3A/sp%20cup%202022/Students_Procastinating_ID27592_code_report/new_eval_verify.ipynb#ch0000004?line=13'>14</a>\u001b[0m             df_different_detection_pred_res\u001b[39m.\u001b[39mappend(\u001b[39mlist\u001b[39m(final_pred_res[\u001b[39m1\u001b[39m])[i])\n\u001b[0;32m     <a href='vscode-notebook-cell:/d%3A/sp%20cup%202022/Students_Procastinating_ID27592_code_report/new_eval_verify.ipynb#ch0000004?line=15'>16</a>\u001b[0m     \u001b[39melse\u001b[39;00m:\n\u001b[1;32m---> <a href='vscode-notebook-cell:/d%3A/sp%20cup%202022/Students_Procastinating_ID27592_code_report/new_eval_verify.ipynb#ch0000004?line=16'>17</a>\u001b[0m         \u001b[39mprint\u001b[39m(final_pred_yam[\u001b[39m0\u001b[39;49m][i], final_pred_res[\u001b[39m0\u001b[39m][i])\n\u001b[0;32m     <a href='vscode-notebook-cell:/d%3A/sp%20cup%202022/Students_Procastinating_ID27592_code_report/new_eval_verify.ipynb#ch0000004?line=18'>19</a>\u001b[0m df_different_detection[\u001b[39m'\u001b[39m\u001b[39mfileName\u001b[39m\u001b[39m'\u001b[39m] \u001b[39m=\u001b[39m df_different_detection_fileName\n\u001b[0;32m     <a href='vscode-notebook-cell:/d%3A/sp%20cup%202022/Students_Procastinating_ID27592_code_report/new_eval_verify.ipynb#ch0000004?line=19'>20</a>\u001b[0m df_different_detection[\u001b[39m'\u001b[39m\u001b[39myam_pred\u001b[39m\u001b[39m'\u001b[39m] \u001b[39m=\u001b[39m df_different_detection_pred_yam\n",
      "File \u001b[1;32m~\\anaconda3\\envs\\RoadCrack\\lib\\site-packages\\pandas\\core\\series.py:958\u001b[0m, in \u001b[0;36mSeries.__getitem__\u001b[1;34m(self, key)\u001b[0m\n\u001b[0;32m    <a href='file:///c%3A/Users/manami/anaconda3/envs/RoadCrack/lib/site-packages/pandas/core/series.py?line=954'>955</a>\u001b[0m     \u001b[39mreturn\u001b[39;00m \u001b[39mself\u001b[39m\u001b[39m.\u001b[39m_values[key]\n\u001b[0;32m    <a href='file:///c%3A/Users/manami/anaconda3/envs/RoadCrack/lib/site-packages/pandas/core/series.py?line=956'>957</a>\u001b[0m \u001b[39melif\u001b[39;00m key_is_scalar:\n\u001b[1;32m--> <a href='file:///c%3A/Users/manami/anaconda3/envs/RoadCrack/lib/site-packages/pandas/core/series.py?line=957'>958</a>\u001b[0m     \u001b[39mreturn\u001b[39;00m \u001b[39mself\u001b[39;49m\u001b[39m.\u001b[39;49m_get_value(key)\n\u001b[0;32m    <a href='file:///c%3A/Users/manami/anaconda3/envs/RoadCrack/lib/site-packages/pandas/core/series.py?line=959'>960</a>\u001b[0m \u001b[39mif\u001b[39;00m is_hashable(key):\n\u001b[0;32m    <a href='file:///c%3A/Users/manami/anaconda3/envs/RoadCrack/lib/site-packages/pandas/core/series.py?line=960'>961</a>\u001b[0m     \u001b[39m# Otherwise index.get_value will raise InvalidIndexError\u001b[39;00m\n\u001b[0;32m    <a href='file:///c%3A/Users/manami/anaconda3/envs/RoadCrack/lib/site-packages/pandas/core/series.py?line=961'>962</a>\u001b[0m     \u001b[39mtry\u001b[39;00m:\n\u001b[0;32m    <a href='file:///c%3A/Users/manami/anaconda3/envs/RoadCrack/lib/site-packages/pandas/core/series.py?line=962'>963</a>\u001b[0m         \u001b[39m# For labels that don't resolve as scalars like tuples and frozensets\u001b[39;00m\n",
      "File \u001b[1;32m~\\anaconda3\\envs\\RoadCrack\\lib\\site-packages\\pandas\\core\\series.py:1069\u001b[0m, in \u001b[0;36mSeries._get_value\u001b[1;34m(self, label, takeable)\u001b[0m\n\u001b[0;32m   <a href='file:///c%3A/Users/manami/anaconda3/envs/RoadCrack/lib/site-packages/pandas/core/series.py?line=1065'>1066</a>\u001b[0m     \u001b[39mreturn\u001b[39;00m \u001b[39mself\u001b[39m\u001b[39m.\u001b[39m_values[label]\n\u001b[0;32m   <a href='file:///c%3A/Users/manami/anaconda3/envs/RoadCrack/lib/site-packages/pandas/core/series.py?line=1067'>1068</a>\u001b[0m \u001b[39m# Similar to Index.get_value, but we do not fall back to positional\u001b[39;00m\n\u001b[1;32m-> <a href='file:///c%3A/Users/manami/anaconda3/envs/RoadCrack/lib/site-packages/pandas/core/series.py?line=1068'>1069</a>\u001b[0m loc \u001b[39m=\u001b[39m \u001b[39mself\u001b[39;49m\u001b[39m.\u001b[39;49mindex\u001b[39m.\u001b[39;49mget_loc(label)\n\u001b[0;32m   <a href='file:///c%3A/Users/manami/anaconda3/envs/RoadCrack/lib/site-packages/pandas/core/series.py?line=1069'>1070</a>\u001b[0m \u001b[39mreturn\u001b[39;00m \u001b[39mself\u001b[39m\u001b[39m.\u001b[39mindex\u001b[39m.\u001b[39m_get_values_for_loc(\u001b[39mself\u001b[39m, loc, label)\n",
      "File \u001b[1;32m~\\anaconda3\\envs\\RoadCrack\\lib\\site-packages\\pandas\\core\\indexes\\base.py:3623\u001b[0m, in \u001b[0;36mIndex.get_loc\u001b[1;34m(self, key, method, tolerance)\u001b[0m\n\u001b[0;32m   <a href='file:///c%3A/Users/manami/anaconda3/envs/RoadCrack/lib/site-packages/pandas/core/indexes/base.py?line=3620'>3621</a>\u001b[0m     \u001b[39mreturn\u001b[39;00m \u001b[39mself\u001b[39m\u001b[39m.\u001b[39m_engine\u001b[39m.\u001b[39mget_loc(casted_key)\n\u001b[0;32m   <a href='file:///c%3A/Users/manami/anaconda3/envs/RoadCrack/lib/site-packages/pandas/core/indexes/base.py?line=3621'>3622</a>\u001b[0m \u001b[39mexcept\u001b[39;00m \u001b[39mKeyError\u001b[39;00m \u001b[39mas\u001b[39;00m err:\n\u001b[1;32m-> <a href='file:///c%3A/Users/manami/anaconda3/envs/RoadCrack/lib/site-packages/pandas/core/indexes/base.py?line=3622'>3623</a>\u001b[0m     \u001b[39mraise\u001b[39;00m \u001b[39mKeyError\u001b[39;00m(key) \u001b[39mfrom\u001b[39;00m \u001b[39merr\u001b[39;00m\n\u001b[0;32m   <a href='file:///c%3A/Users/manami/anaconda3/envs/RoadCrack/lib/site-packages/pandas/core/indexes/base.py?line=3623'>3624</a>\u001b[0m \u001b[39mexcept\u001b[39;00m \u001b[39mTypeError\u001b[39;00m:\n\u001b[0;32m   <a href='file:///c%3A/Users/manami/anaconda3/envs/RoadCrack/lib/site-packages/pandas/core/indexes/base.py?line=3624'>3625</a>\u001b[0m     \u001b[39m# If we have a listlike key, _check_indexing_error will raise\u001b[39;00m\n\u001b[0;32m   <a href='file:///c%3A/Users/manami/anaconda3/envs/RoadCrack/lib/site-packages/pandas/core/indexes/base.py?line=3625'>3626</a>\u001b[0m     \u001b[39m#  InvalidIndexError. Otherwise we fall through and re-raise\u001b[39;00m\n\u001b[0;32m   <a href='file:///c%3A/Users/manami/anaconda3/envs/RoadCrack/lib/site-packages/pandas/core/indexes/base.py?line=3626'>3627</a>\u001b[0m     \u001b[39m#  the TypeError.\u001b[39;00m\n\u001b[0;32m   <a href='file:///c%3A/Users/manami/anaconda3/envs/RoadCrack/lib/site-packages/pandas/core/indexes/base.py?line=3627'>3628</a>\u001b[0m     \u001b[39mself\u001b[39m\u001b[39m.\u001b[39m_check_indexing_error(key)\n",
      "\u001b[1;31mKeyError\u001b[0m: 0"
     ]
    }
   ],
   "source": [
    "df_different_detection = pd.DataFrame()\n",
    "df_different_detection_fileName = []\n",
    "df_different_detection_pred_yam = []\n",
    "df_different_detection_pred_res = []\n",
    "\n",
    "for i in tqdm(range(10000)):\n",
    "    if list(final_pred_yam[0])[i] == list(final_pred_res[0])[i]:\n",
    "        try:\n",
    "            assert int(list(final_pred_yam[1])[i]) == int(list(final_pred_res[1])[i])\n",
    "        except:\n",
    "            #print(list(final_pred_yam[1])[i] , list(final_pred_res[1])[i])\n",
    "            df_different_detection_fileName.append(list(final_pred_yam[0])[i])\n",
    "            df_different_detection_pred_yam.append(list(final_pred_yam[1])[i])\n",
    "            df_different_detection_pred_res.append(list(final_pred_res[1])[i])\n",
    "\n",
    "    else:\n",
    "        print(final_pred_yam[0][i], final_pred_res[0][i])\n",
    "\n",
    "df_different_detection['fileName'] = df_different_detection_fileName\n",
    "df_different_detection['yam_pred'] = df_different_detection_pred_yam\n",
    "df_different_detection['res_pred'] = df_different_detection_pred_res\n"
   ]
  },
  {
   "cell_type": "code",
   "execution_count": null,
   "metadata": {},
   "outputs": [
    {
     "name": "stdout",
     "output_type": "stream",
     "text": [
      "10000 10000\n"
     ]
    }
   ],
   "source": [
    "print(len(final_pred_yam), len(final_pred_res))"
   ]
  },
  {
   "cell_type": "markdown",
   "metadata": {},
   "source": [
    "# difference identify"
   ]
  },
  {
   "cell_type": "code",
   "execution_count": null,
   "metadata": {},
   "outputs": [
    {
     "data": {
      "text/plain": [
       "0.7216"
      ]
     },
     "execution_count": 8,
     "metadata": {},
     "output_type": "execute_result"
    }
   ],
   "source": [
    "(10 - 2.784)/10"
   ]
  },
  {
   "cell_type": "markdown",
   "metadata": {},
   "source": [
    "# balanced_accu, f1_score, auc_curve, "
   ]
  },
  {
   "cell_type": "code",
   "execution_count": null,
   "metadata": {},
   "outputs": [
    {
     "name": "stdout",
     "output_type": "stream",
     "text": [
      "2784\n",
      "accuracy: 0.7216\n",
      "5    1300\n",
      "1     471\n",
      "2     452\n",
      "3     259\n",
      "4     168\n",
      "0     134\n",
      "Name: yam_pred, dtype: int64\n",
      "1    1003\n",
      "5     918\n",
      "4     652\n",
      "0     104\n",
      "2     100\n",
      "3       7\n",
      "Name: res_pred, dtype: int64\n"
     ]
    }
   ],
   "source": [
    "print(len(df_different_detection))\n",
    "print(f\"accuracy: {(len(final_pred_res) - len(df_different_detection))/len(final_pred_res)}\")\n",
    "print(df_different_detection['yam_pred'].value_counts())\n",
    "print(df_different_detection['res_pred'].value_counts())"
   ]
  },
  {
   "cell_type": "code",
   "execution_count": null,
   "metadata": {},
   "outputs": [
    {
     "data": {
      "text/html": [
       "<div>\n",
       "<style scoped>\n",
       "    .dataframe tbody tr th:only-of-type {\n",
       "        vertical-align: middle;\n",
       "    }\n",
       "\n",
       "    .dataframe tbody tr th {\n",
       "        vertical-align: top;\n",
       "    }\n",
       "\n",
       "    .dataframe thead th {\n",
       "        text-align: right;\n",
       "    }\n",
       "</style>\n",
       "<table border=\"1\" class=\"dataframe\">\n",
       "  <thead>\n",
       "    <tr style=\"text-align: right;\">\n",
       "      <th></th>\n",
       "      <th>fileName</th>\n",
       "      <th>yam_pred</th>\n",
       "      <th>res_pred</th>\n",
       "    </tr>\n",
       "  </thead>\n",
       "  <tbody>\n",
       "    <tr>\n",
       "      <th>1</th>\n",
       "      <td>003e52d658ae9439b3743b1d7f4ea14f.wav</td>\n",
       "      <td>5</td>\n",
       "      <td>1</td>\n",
       "    </tr>\n",
       "    <tr>\n",
       "      <th>5</th>\n",
       "      <td>00c5ef4e089ec478307a885f408fb614.wav</td>\n",
       "      <td>5</td>\n",
       "      <td>1</td>\n",
       "    </tr>\n",
       "    <tr>\n",
       "      <th>6</th>\n",
       "      <td>00d492dda65369d958f3c1d6e71c512f.wav</td>\n",
       "      <td>5</td>\n",
       "      <td>1</td>\n",
       "    </tr>\n",
       "    <tr>\n",
       "      <th>12</th>\n",
       "      <td>0127e8d86c5c0e7c6662812c17023750.wav</td>\n",
       "      <td>5</td>\n",
       "      <td>4</td>\n",
       "    </tr>\n",
       "    <tr>\n",
       "      <th>14</th>\n",
       "      <td>0135def0c3a543ab5c937ab2c9a952ca.wav</td>\n",
       "      <td>5</td>\n",
       "      <td>1</td>\n",
       "    </tr>\n",
       "    <tr>\n",
       "      <th>...</th>\n",
       "      <td>...</td>\n",
       "      <td>...</td>\n",
       "      <td>...</td>\n",
       "    </tr>\n",
       "    <tr>\n",
       "      <th>2772</th>\n",
       "      <td>fef49c0490f2af74552691bcfd05b23a.wav</td>\n",
       "      <td>5</td>\n",
       "      <td>1</td>\n",
       "    </tr>\n",
       "    <tr>\n",
       "      <th>2775</th>\n",
       "      <td>ff1f5f4193f8b4e7a61f111866949e18.wav</td>\n",
       "      <td>5</td>\n",
       "      <td>1</td>\n",
       "    </tr>\n",
       "    <tr>\n",
       "      <th>2777</th>\n",
       "      <td>ff51ca531e435240aa3e4bacf3ee0f79.wav</td>\n",
       "      <td>5</td>\n",
       "      <td>4</td>\n",
       "    </tr>\n",
       "    <tr>\n",
       "      <th>2778</th>\n",
       "      <td>ff5e0dc53abe2e4c19e10eb204fd3231.wav</td>\n",
       "      <td>5</td>\n",
       "      <td>1</td>\n",
       "    </tr>\n",
       "    <tr>\n",
       "      <th>2780</th>\n",
       "      <td>ff68eb85c8b2976eaa2540f14d514b2d.wav</td>\n",
       "      <td>5</td>\n",
       "      <td>0</td>\n",
       "    </tr>\n",
       "  </tbody>\n",
       "</table>\n",
       "<p>1300 rows × 3 columns</p>\n",
       "</div>"
      ],
      "text/plain": [
       "                                  fileName yam_pred  res_pred\n",
       "1     003e52d658ae9439b3743b1d7f4ea14f.wav        5         1\n",
       "5     00c5ef4e089ec478307a885f408fb614.wav        5         1\n",
       "6     00d492dda65369d958f3c1d6e71c512f.wav        5         1\n",
       "12    0127e8d86c5c0e7c6662812c17023750.wav        5         4\n",
       "14    0135def0c3a543ab5c937ab2c9a952ca.wav        5         1\n",
       "...                                    ...      ...       ...\n",
       "2772  fef49c0490f2af74552691bcfd05b23a.wav        5         1\n",
       "2775  ff1f5f4193f8b4e7a61f111866949e18.wav        5         1\n",
       "2777  ff51ca531e435240aa3e4bacf3ee0f79.wav        5         4\n",
       "2778  ff5e0dc53abe2e4c19e10eb204fd3231.wav        5         1\n",
       "2780  ff68eb85c8b2976eaa2540f14d514b2d.wav        5         0\n",
       "\n",
       "[1300 rows x 3 columns]"
      ]
     },
     "execution_count": 10,
     "metadata": {},
     "output_type": "execute_result"
    }
   ],
   "source": [
    "df_different_detection[df_different_detection['yam_pred'] == '5']"
   ]
  },
  {
   "cell_type": "code",
   "execution_count": null,
   "metadata": {},
   "outputs": [
    {
     "name": "stdout",
     "output_type": "stream",
     "text": [
      "label 5 in yam: 1300\n",
      "label 5 in yam and 1 in res: 550\n",
      "label 5 in yam and 2 in res: 29\n",
      "label 5 in yam and 3 in res: 0\n",
      "label 5 in yam and 4 in res: 617\n"
     ]
    }
   ],
   "source": [
    "print(f\"label 5 in yam: {len(df_different_detection[df_different_detection['yam_pred'] == '5'])}\")\n",
    "print(f\"label 5 in yam and 1 in res: {len(df_different_detection[(df_different_detection['yam_pred'] == '5') & (df_different_detection['res_pred'] == 1)])}\")\n",
    "print(f\"label 5 in yam and 2 in res: {len(df_different_detection[(df_different_detection['yam_pred'] == '5') & (df_different_detection['res_pred'] == 2)])}\")\n",
    "print(f\"label 5 in yam and 3 in res: {len(df_different_detection[(df_different_detection['yam_pred'] == '5') & (df_different_detection['res_pred'] == 3)])}\")\n",
    "print(f\"label 5 in yam and 4 in res: {len(df_different_detection[(df_different_detection['yam_pred'] == '5') & (df_different_detection['res_pred'] == 4)])}\")"
   ]
  },
  {
   "cell_type": "code",
   "execution_count": null,
   "metadata": {},
   "outputs": [
    {
     "name": "stdout",
     "output_type": "stream",
     "text": [
      "label 4 in yam: 168\n",
      "label 4 in yam and 1 in res: 0\n",
      "label 4 in yam and 2 in res: 0\n",
      "label 4 in yam and 3 in res: 0\n",
      "label 4 in yam and 5 in res: 168\n"
     ]
    }
   ],
   "source": [
    "print(f\"label 4 in yam: {len(df_different_detection[df_different_detection['yam_pred'] == '4'])}\")\n",
    "print(f\"label 4 in yam and 1 in res: {len(df_different_detection[(df_different_detection['yam_pred'] == '4') & (df_different_detection['res_pred'] == 1)])}\")\n",
    "print(f\"label 4 in yam and 2 in res: {len(df_different_detection[(df_different_detection['yam_pred'] == '4') & (df_different_detection['res_pred'] == 2)])}\")\n",
    "print(f\"label 4 in yam and 3 in res: {len(df_different_detection[(df_different_detection['yam_pred'] == '4') & (df_different_detection['res_pred'] == 3)])}\")\n",
    "print(f\"label 4 in yam and 5 in res: {len(df_different_detection[(df_different_detection['yam_pred'] == '4') & (df_different_detection['res_pred'] == 5)])}\")"
   ]
  },
  {
   "cell_type": "code",
   "execution_count": null,
   "metadata": {},
   "outputs": [
    {
     "name": "stdout",
     "output_type": "stream",
     "text": [
      "label 3 in yam: 259\n",
      "label 3 in yam and 1 in res: 73\n",
      "label 3 in yam and 2 in res: 2\n",
      "label 3 in yam and 4 in res: 0\n",
      "label 3 in yam and 5 in res: 184\n"
     ]
    }
   ],
   "source": [
    "print(f\"label 3 in yam: {len(df_different_detection[df_different_detection['yam_pred'] == '3'])}\")\n",
    "print(f\"label 3 in yam and 1 in res: {len(df_different_detection[(df_different_detection['yam_pred'] == '3') & (df_different_detection['res_pred'] == 1)])}\")\n",
    "print(f\"label 3 in yam and 2 in res: {len(df_different_detection[(df_different_detection['yam_pred'] == '3') & (df_different_detection['res_pred'] == 2)])}\")\n",
    "print(f\"label 3 in yam and 4 in res: {len(df_different_detection[(df_different_detection['yam_pred'] == '3') & (df_different_detection['res_pred'] == 4)])}\")\n",
    "print(f\"label 3 in yam and 5 in res: {len(df_different_detection[(df_different_detection['yam_pred'] == '3') & (df_different_detection['res_pred'] == 5)])}\")"
   ]
  },
  {
   "cell_type": "code",
   "execution_count": null,
   "metadata": {},
   "outputs": [
    {
     "name": "stdout",
     "output_type": "stream",
     "text": [
      "label 2 in yam: 452\n",
      "label 2 in yam and 1 in res: 379\n",
      "label 2 in yam and 3 in res: 4\n",
      "label 2 in yam and 4 in res: 0\n",
      "label 2 in yam and 5 in res: 69\n"
     ]
    }
   ],
   "source": [
    "print(f\"label 2 in yam: {len(df_different_detection[df_different_detection['yam_pred'] == '2'])}\")\n",
    "print(f\"label 2 in yam and 1 in res: {len(df_different_detection[(df_different_detection['yam_pred'] == '2') & (df_different_detection['res_pred'] == 1)])}\")\n",
    "print(f\"label 2 in yam and 3 in res: {len(df_different_detection[(df_different_detection['yam_pred'] == '2') & (df_different_detection['res_pred'] == 3)])}\")\n",
    "print(f\"label 2 in yam and 4 in res: {len(df_different_detection[(df_different_detection['yam_pred'] == '2') & (df_different_detection['res_pred'] == 4)])}\")\n",
    "print(f\"label 2 in yam and 5 in res: {len(df_different_detection[(df_different_detection['yam_pred'] == '2') & (df_different_detection['res_pred'] == 5)])}\")"
   ]
  },
  {
   "cell_type": "code",
   "execution_count": null,
   "metadata": {},
   "outputs": [
    {
     "name": "stdout",
     "output_type": "stream",
     "text": [
      "label 1 in yam: 452\n",
      "label 1 in yam and 2 in res: 379\n",
      "label 1 in yam and 3 in res: 4\n",
      "label 1 in yam and 4 in res: 0\n",
      "label 1 in yam and 5 in res: 69\n"
     ]
    }
   ],
   "source": [
    "print(f\"label 1 in yam: {len(df_different_detection[df_different_detection['yam_pred'] == '2'])}\")\n",
    "print(f\"label 1 in yam and 2 in res: {len(df_different_detection[(df_different_detection['yam_pred'] == '2') & (df_different_detection['res_pred'] == 1)])}\")\n",
    "print(f\"label 1 in yam and 3 in res: {len(df_different_detection[(df_different_detection['yam_pred'] == '2') & (df_different_detection['res_pred'] == 3)])}\")\n",
    "print(f\"label 1 in yam and 4 in res: {len(df_different_detection[(df_different_detection['yam_pred'] == '2') & (df_different_detection['res_pred'] == 4)])}\")\n",
    "print(f\"label 1 in yam and 5 in res: {len(df_different_detection[(df_different_detection['yam_pred'] == '2') & (df_different_detection['res_pred'] == 5)])}\")"
   ]
  },
  {
   "cell_type": "code",
   "execution_count": null,
   "metadata": {},
   "outputs": [],
   "source": [
    "df_different_detection.to_csv('difference.csv')"
   ]
  }
 ],
 "metadata": {
  "interpreter": {
   "hash": "ddb5bebe97feefb70dc75fec09d21b7712624d282c8601d3f8aafc2e4074132c"
  },
  "kernelspec": {
   "display_name": "Python 3.8.6 32-bit",
   "language": "python",
   "name": "python3"
  },
  "language_info": {
   "codemirror_mode": {
    "name": "ipython",
    "version": 3
   },
   "file_extension": ".py",
   "mimetype": "text/x-python",
   "name": "python",
   "nbconvert_exporter": "python",
   "pygments_lexer": "ipython3",
   "version": "3.8.13"
  },
  "orig_nbformat": 4
 },
 "nbformat": 4,
 "nbformat_minor": 2
}
